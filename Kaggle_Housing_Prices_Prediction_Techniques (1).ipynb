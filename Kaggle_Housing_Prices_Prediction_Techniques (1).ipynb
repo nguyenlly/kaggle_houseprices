{
  "nbformat": 4,
  "nbformat_minor": 0,
  "metadata": {
    "colab": {
      "provenance": []
    },
    "kernelspec": {
      "name": "python3",
      "display_name": "Python 3"
    },
    "language_info": {
      "name": "python"
    }
  },
  "cells": [
    {
      "cell_type": "markdown",
      "source": [
        "#Kaggle Practice - Housing Price Prediction\n",
        "\n",
        "Goal: Predict sale price for each house for each id in test set. Format\n",
        "\n",
        "\n",
        "Evaluation: Based on the Root-Mean-Squared-Error (RMSE) between the logarithm of the predicted value and the logarithm of the observed sales price."
      ],
      "metadata": {
        "id": "4YzsmbknXHxM"
      }
    },
    {
      "cell_type": "markdown",
      "source": [
        "**Import Library and Load Dataset**"
      ],
      "metadata": {
        "id": "jzkOvGT1Xnjj"
      }
    },
    {
      "cell_type": "code",
      "execution_count": 51,
      "metadata": {
        "id": "SO4secQqWUtJ"
      },
      "outputs": [],
      "source": [
        "import sys\n",
        "import matplotlib.pyplot as plt\n",
        "import numpy as np\n",
        "import pandas as pd\n",
        "import seaborn as sns\n",
        "from sklearn import preprocessing"
      ]
    },
    {
      "cell_type": "code",
      "source": [
        "# import data from drive\n",
        "from google.colab import drive\n",
        "drive.mount('/content/drive')"
      ],
      "metadata": {
        "colab": {
          "base_uri": "https://localhost:8080/"
        },
        "id": "NdrVQ3mLZVU3",
        "outputId": "320661bc-3a1d-44e8-c848-f03228262526"
      },
      "execution_count": 52,
      "outputs": [
        {
          "output_type": "stream",
          "name": "stdout",
          "text": [
            "Drive already mounted at /content/drive; to attempt to forcibly remount, call drive.mount(\"/content/drive\", force_remount=True).\n"
          ]
        }
      ]
    },
    {
      "cell_type": "code",
      "source": [
        "!jar -xvf '/content/drive/My Drive/house-prices-advanced-regression-techniques.zip'"
      ],
      "metadata": {
        "colab": {
          "base_uri": "https://localhost:8080/"
        },
        "id": "Z3Z3rTcXaAaI",
        "outputId": "eb9f88ad-4333-4048-cea1-b2b188fe71cd"
      },
      "execution_count": 53,
      "outputs": [
        {
          "output_type": "stream",
          "name": "stdout",
          "text": [
            " inflated: data_description.txt\n",
            " inflated: sample_submission.csv\n",
            " inflated: test.csv\n",
            " inflated: train.csv\n"
          ]
        }
      ]
    },
    {
      "cell_type": "code",
      "source": [
        "!unzip -n '/content/drive/My Drive/house-prices-advanced-regression-techniques.zip'"
      ],
      "metadata": {
        "colab": {
          "base_uri": "https://localhost:8080/"
        },
        "outputId": "72317361-0fac-4f2e-d37d-f005ab73d368",
        "id": "Ufmk_h1-ajWT"
      },
      "execution_count": 54,
      "outputs": [
        {
          "output_type": "stream",
          "name": "stdout",
          "text": [
            "Archive:  /content/drive/My Drive/house-prices-advanced-regression-techniques.zip\n"
          ]
        }
      ]
    },
    {
      "cell_type": "code",
      "source": [
        "# create training and test sets\n",
        "train = pd.read_csv('/content/train.csv')\n",
        "test = pd.read_csv('/content/test.csv')"
      ],
      "metadata": {
        "id": "KvY8s5Fgbhtl"
      },
      "execution_count": 55,
      "outputs": []
    },
    {
      "cell_type": "code",
      "source": [
        "# check training dataset\n",
        "train.head(5)"
      ],
      "metadata": {
        "colab": {
          "base_uri": "https://localhost:8080/",
          "height": 255
        },
        "id": "cdOH4omjf_rX",
        "outputId": "ab85ffc4-03e4-4800-81c3-0351b2c8a809"
      },
      "execution_count": 56,
      "outputs": [
        {
          "output_type": "execute_result",
          "data": {
            "text/plain": [
              "   Id  MSSubClass MSZoning  LotFrontage  LotArea Street Alley LotShape  \\\n",
              "0   1          60       RL         65.0     8450   Pave   NaN      Reg   \n",
              "1   2          20       RL         80.0     9600   Pave   NaN      Reg   \n",
              "2   3          60       RL         68.0    11250   Pave   NaN      IR1   \n",
              "3   4          70       RL         60.0     9550   Pave   NaN      IR1   \n",
              "4   5          60       RL         84.0    14260   Pave   NaN      IR1   \n",
              "\n",
              "  LandContour Utilities  ... PoolArea PoolQC Fence MiscFeature MiscVal MoSold  \\\n",
              "0         Lvl    AllPub  ...        0    NaN   NaN         NaN       0      2   \n",
              "1         Lvl    AllPub  ...        0    NaN   NaN         NaN       0      5   \n",
              "2         Lvl    AllPub  ...        0    NaN   NaN         NaN       0      9   \n",
              "3         Lvl    AllPub  ...        0    NaN   NaN         NaN       0      2   \n",
              "4         Lvl    AllPub  ...        0    NaN   NaN         NaN       0     12   \n",
              "\n",
              "  YrSold  SaleType  SaleCondition  SalePrice  \n",
              "0   2008        WD         Normal     208500  \n",
              "1   2007        WD         Normal     181500  \n",
              "2   2008        WD         Normal     223500  \n",
              "3   2006        WD        Abnorml     140000  \n",
              "4   2008        WD         Normal     250000  \n",
              "\n",
              "[5 rows x 81 columns]"
            ],
            "text/html": [
              "\n",
              "  <div id=\"df-8ff0598f-55da-406b-b86f-33336c153bc7\" class=\"colab-df-container\">\n",
              "    <div>\n",
              "<style scoped>\n",
              "    .dataframe tbody tr th:only-of-type {\n",
              "        vertical-align: middle;\n",
              "    }\n",
              "\n",
              "    .dataframe tbody tr th {\n",
              "        vertical-align: top;\n",
              "    }\n",
              "\n",
              "    .dataframe thead th {\n",
              "        text-align: right;\n",
              "    }\n",
              "</style>\n",
              "<table border=\"1\" class=\"dataframe\">\n",
              "  <thead>\n",
              "    <tr style=\"text-align: right;\">\n",
              "      <th></th>\n",
              "      <th>Id</th>\n",
              "      <th>MSSubClass</th>\n",
              "      <th>MSZoning</th>\n",
              "      <th>LotFrontage</th>\n",
              "      <th>LotArea</th>\n",
              "      <th>Street</th>\n",
              "      <th>Alley</th>\n",
              "      <th>LotShape</th>\n",
              "      <th>LandContour</th>\n",
              "      <th>Utilities</th>\n",
              "      <th>...</th>\n",
              "      <th>PoolArea</th>\n",
              "      <th>PoolQC</th>\n",
              "      <th>Fence</th>\n",
              "      <th>MiscFeature</th>\n",
              "      <th>MiscVal</th>\n",
              "      <th>MoSold</th>\n",
              "      <th>YrSold</th>\n",
              "      <th>SaleType</th>\n",
              "      <th>SaleCondition</th>\n",
              "      <th>SalePrice</th>\n",
              "    </tr>\n",
              "  </thead>\n",
              "  <tbody>\n",
              "    <tr>\n",
              "      <th>0</th>\n",
              "      <td>1</td>\n",
              "      <td>60</td>\n",
              "      <td>RL</td>\n",
              "      <td>65.0</td>\n",
              "      <td>8450</td>\n",
              "      <td>Pave</td>\n",
              "      <td>NaN</td>\n",
              "      <td>Reg</td>\n",
              "      <td>Lvl</td>\n",
              "      <td>AllPub</td>\n",
              "      <td>...</td>\n",
              "      <td>0</td>\n",
              "      <td>NaN</td>\n",
              "      <td>NaN</td>\n",
              "      <td>NaN</td>\n",
              "      <td>0</td>\n",
              "      <td>2</td>\n",
              "      <td>2008</td>\n",
              "      <td>WD</td>\n",
              "      <td>Normal</td>\n",
              "      <td>208500</td>\n",
              "    </tr>\n",
              "    <tr>\n",
              "      <th>1</th>\n",
              "      <td>2</td>\n",
              "      <td>20</td>\n",
              "      <td>RL</td>\n",
              "      <td>80.0</td>\n",
              "      <td>9600</td>\n",
              "      <td>Pave</td>\n",
              "      <td>NaN</td>\n",
              "      <td>Reg</td>\n",
              "      <td>Lvl</td>\n",
              "      <td>AllPub</td>\n",
              "      <td>...</td>\n",
              "      <td>0</td>\n",
              "      <td>NaN</td>\n",
              "      <td>NaN</td>\n",
              "      <td>NaN</td>\n",
              "      <td>0</td>\n",
              "      <td>5</td>\n",
              "      <td>2007</td>\n",
              "      <td>WD</td>\n",
              "      <td>Normal</td>\n",
              "      <td>181500</td>\n",
              "    </tr>\n",
              "    <tr>\n",
              "      <th>2</th>\n",
              "      <td>3</td>\n",
              "      <td>60</td>\n",
              "      <td>RL</td>\n",
              "      <td>68.0</td>\n",
              "      <td>11250</td>\n",
              "      <td>Pave</td>\n",
              "      <td>NaN</td>\n",
              "      <td>IR1</td>\n",
              "      <td>Lvl</td>\n",
              "      <td>AllPub</td>\n",
              "      <td>...</td>\n",
              "      <td>0</td>\n",
              "      <td>NaN</td>\n",
              "      <td>NaN</td>\n",
              "      <td>NaN</td>\n",
              "      <td>0</td>\n",
              "      <td>9</td>\n",
              "      <td>2008</td>\n",
              "      <td>WD</td>\n",
              "      <td>Normal</td>\n",
              "      <td>223500</td>\n",
              "    </tr>\n",
              "    <tr>\n",
              "      <th>3</th>\n",
              "      <td>4</td>\n",
              "      <td>70</td>\n",
              "      <td>RL</td>\n",
              "      <td>60.0</td>\n",
              "      <td>9550</td>\n",
              "      <td>Pave</td>\n",
              "      <td>NaN</td>\n",
              "      <td>IR1</td>\n",
              "      <td>Lvl</td>\n",
              "      <td>AllPub</td>\n",
              "      <td>...</td>\n",
              "      <td>0</td>\n",
              "      <td>NaN</td>\n",
              "      <td>NaN</td>\n",
              "      <td>NaN</td>\n",
              "      <td>0</td>\n",
              "      <td>2</td>\n",
              "      <td>2006</td>\n",
              "      <td>WD</td>\n",
              "      <td>Abnorml</td>\n",
              "      <td>140000</td>\n",
              "    </tr>\n",
              "    <tr>\n",
              "      <th>4</th>\n",
              "      <td>5</td>\n",
              "      <td>60</td>\n",
              "      <td>RL</td>\n",
              "      <td>84.0</td>\n",
              "      <td>14260</td>\n",
              "      <td>Pave</td>\n",
              "      <td>NaN</td>\n",
              "      <td>IR1</td>\n",
              "      <td>Lvl</td>\n",
              "      <td>AllPub</td>\n",
              "      <td>...</td>\n",
              "      <td>0</td>\n",
              "      <td>NaN</td>\n",
              "      <td>NaN</td>\n",
              "      <td>NaN</td>\n",
              "      <td>0</td>\n",
              "      <td>12</td>\n",
              "      <td>2008</td>\n",
              "      <td>WD</td>\n",
              "      <td>Normal</td>\n",
              "      <td>250000</td>\n",
              "    </tr>\n",
              "  </tbody>\n",
              "</table>\n",
              "<p>5 rows × 81 columns</p>\n",
              "</div>\n",
              "    <div class=\"colab-df-buttons\">\n",
              "\n",
              "  <div class=\"colab-df-container\">\n",
              "    <button class=\"colab-df-convert\" onclick=\"convertToInteractive('df-8ff0598f-55da-406b-b86f-33336c153bc7')\"\n",
              "            title=\"Convert this dataframe to an interactive table.\"\n",
              "            style=\"display:none;\">\n",
              "\n",
              "  <svg xmlns=\"http://www.w3.org/2000/svg\" height=\"24px\" viewBox=\"0 -960 960 960\">\n",
              "    <path d=\"M120-120v-720h720v720H120Zm60-500h600v-160H180v160Zm220 220h160v-160H400v160Zm0 220h160v-160H400v160ZM180-400h160v-160H180v160Zm440 0h160v-160H620v160ZM180-180h160v-160H180v160Zm440 0h160v-160H620v160Z\"/>\n",
              "  </svg>\n",
              "    </button>\n",
              "\n",
              "  <style>\n",
              "    .colab-df-container {\n",
              "      display:flex;\n",
              "      gap: 12px;\n",
              "    }\n",
              "\n",
              "    .colab-df-convert {\n",
              "      background-color: #E8F0FE;\n",
              "      border: none;\n",
              "      border-radius: 50%;\n",
              "      cursor: pointer;\n",
              "      display: none;\n",
              "      fill: #1967D2;\n",
              "      height: 32px;\n",
              "      padding: 0 0 0 0;\n",
              "      width: 32px;\n",
              "    }\n",
              "\n",
              "    .colab-df-convert:hover {\n",
              "      background-color: #E2EBFA;\n",
              "      box-shadow: 0px 1px 2px rgba(60, 64, 67, 0.3), 0px 1px 3px 1px rgba(60, 64, 67, 0.15);\n",
              "      fill: #174EA6;\n",
              "    }\n",
              "\n",
              "    .colab-df-buttons div {\n",
              "      margin-bottom: 4px;\n",
              "    }\n",
              "\n",
              "    [theme=dark] .colab-df-convert {\n",
              "      background-color: #3B4455;\n",
              "      fill: #D2E3FC;\n",
              "    }\n",
              "\n",
              "    [theme=dark] .colab-df-convert:hover {\n",
              "      background-color: #434B5C;\n",
              "      box-shadow: 0px 1px 3px 1px rgba(0, 0, 0, 0.15);\n",
              "      filter: drop-shadow(0px 1px 2px rgba(0, 0, 0, 0.3));\n",
              "      fill: #FFFFFF;\n",
              "    }\n",
              "  </style>\n",
              "\n",
              "    <script>\n",
              "      const buttonEl =\n",
              "        document.querySelector('#df-8ff0598f-55da-406b-b86f-33336c153bc7 button.colab-df-convert');\n",
              "      buttonEl.style.display =\n",
              "        google.colab.kernel.accessAllowed ? 'block' : 'none';\n",
              "\n",
              "      async function convertToInteractive(key) {\n",
              "        const element = document.querySelector('#df-8ff0598f-55da-406b-b86f-33336c153bc7');\n",
              "        const dataTable =\n",
              "          await google.colab.kernel.invokeFunction('convertToInteractive',\n",
              "                                                    [key], {});\n",
              "        if (!dataTable) return;\n",
              "\n",
              "        const docLinkHtml = 'Like what you see? Visit the ' +\n",
              "          '<a target=\"_blank\" href=https://colab.research.google.com/notebooks/data_table.ipynb>data table notebook</a>'\n",
              "          + ' to learn more about interactive tables.';\n",
              "        element.innerHTML = '';\n",
              "        dataTable['output_type'] = 'display_data';\n",
              "        await google.colab.output.renderOutput(dataTable, element);\n",
              "        const docLink = document.createElement('div');\n",
              "        docLink.innerHTML = docLinkHtml;\n",
              "        element.appendChild(docLink);\n",
              "      }\n",
              "    </script>\n",
              "  </div>\n",
              "\n",
              "\n",
              "<div id=\"df-edc81ecf-f4eb-45d6-af8f-78e3cdbb5018\">\n",
              "  <button class=\"colab-df-quickchart\" onclick=\"quickchart('df-edc81ecf-f4eb-45d6-af8f-78e3cdbb5018')\"\n",
              "            title=\"Suggest charts\"\n",
              "            style=\"display:none;\">\n",
              "\n",
              "<svg xmlns=\"http://www.w3.org/2000/svg\" height=\"24px\"viewBox=\"0 0 24 24\"\n",
              "     width=\"24px\">\n",
              "    <g>\n",
              "        <path d=\"M19 3H5c-1.1 0-2 .9-2 2v14c0 1.1.9 2 2 2h14c1.1 0 2-.9 2-2V5c0-1.1-.9-2-2-2zM9 17H7v-7h2v7zm4 0h-2V7h2v10zm4 0h-2v-4h2v4z\"/>\n",
              "    </g>\n",
              "</svg>\n",
              "  </button>\n",
              "\n",
              "<style>\n",
              "  .colab-df-quickchart {\n",
              "      --bg-color: #E8F0FE;\n",
              "      --fill-color: #1967D2;\n",
              "      --hover-bg-color: #E2EBFA;\n",
              "      --hover-fill-color: #174EA6;\n",
              "      --disabled-fill-color: #AAA;\n",
              "      --disabled-bg-color: #DDD;\n",
              "  }\n",
              "\n",
              "  [theme=dark] .colab-df-quickchart {\n",
              "      --bg-color: #3B4455;\n",
              "      --fill-color: #D2E3FC;\n",
              "      --hover-bg-color: #434B5C;\n",
              "      --hover-fill-color: #FFFFFF;\n",
              "      --disabled-bg-color: #3B4455;\n",
              "      --disabled-fill-color: #666;\n",
              "  }\n",
              "\n",
              "  .colab-df-quickchart {\n",
              "    background-color: var(--bg-color);\n",
              "    border: none;\n",
              "    border-radius: 50%;\n",
              "    cursor: pointer;\n",
              "    display: none;\n",
              "    fill: var(--fill-color);\n",
              "    height: 32px;\n",
              "    padding: 0;\n",
              "    width: 32px;\n",
              "  }\n",
              "\n",
              "  .colab-df-quickchart:hover {\n",
              "    background-color: var(--hover-bg-color);\n",
              "    box-shadow: 0 1px 2px rgba(60, 64, 67, 0.3), 0 1px 3px 1px rgba(60, 64, 67, 0.15);\n",
              "    fill: var(--button-hover-fill-color);\n",
              "  }\n",
              "\n",
              "  .colab-df-quickchart-complete:disabled,\n",
              "  .colab-df-quickchart-complete:disabled:hover {\n",
              "    background-color: var(--disabled-bg-color);\n",
              "    fill: var(--disabled-fill-color);\n",
              "    box-shadow: none;\n",
              "  }\n",
              "\n",
              "  .colab-df-spinner {\n",
              "    border: 2px solid var(--fill-color);\n",
              "    border-color: transparent;\n",
              "    border-bottom-color: var(--fill-color);\n",
              "    animation:\n",
              "      spin 1s steps(1) infinite;\n",
              "  }\n",
              "\n",
              "  @keyframes spin {\n",
              "    0% {\n",
              "      border-color: transparent;\n",
              "      border-bottom-color: var(--fill-color);\n",
              "      border-left-color: var(--fill-color);\n",
              "    }\n",
              "    20% {\n",
              "      border-color: transparent;\n",
              "      border-left-color: var(--fill-color);\n",
              "      border-top-color: var(--fill-color);\n",
              "    }\n",
              "    30% {\n",
              "      border-color: transparent;\n",
              "      border-left-color: var(--fill-color);\n",
              "      border-top-color: var(--fill-color);\n",
              "      border-right-color: var(--fill-color);\n",
              "    }\n",
              "    40% {\n",
              "      border-color: transparent;\n",
              "      border-right-color: var(--fill-color);\n",
              "      border-top-color: var(--fill-color);\n",
              "    }\n",
              "    60% {\n",
              "      border-color: transparent;\n",
              "      border-right-color: var(--fill-color);\n",
              "    }\n",
              "    80% {\n",
              "      border-color: transparent;\n",
              "      border-right-color: var(--fill-color);\n",
              "      border-bottom-color: var(--fill-color);\n",
              "    }\n",
              "    90% {\n",
              "      border-color: transparent;\n",
              "      border-bottom-color: var(--fill-color);\n",
              "    }\n",
              "  }\n",
              "</style>\n",
              "\n",
              "  <script>\n",
              "    async function quickchart(key) {\n",
              "      const quickchartButtonEl =\n",
              "        document.querySelector('#' + key + ' button');\n",
              "      quickchartButtonEl.disabled = true;  // To prevent multiple clicks.\n",
              "      quickchartButtonEl.classList.add('colab-df-spinner');\n",
              "      try {\n",
              "        const charts = await google.colab.kernel.invokeFunction(\n",
              "            'suggestCharts', [key], {});\n",
              "      } catch (error) {\n",
              "        console.error('Error during call to suggestCharts:', error);\n",
              "      }\n",
              "      quickchartButtonEl.classList.remove('colab-df-spinner');\n",
              "      quickchartButtonEl.classList.add('colab-df-quickchart-complete');\n",
              "    }\n",
              "    (() => {\n",
              "      let quickchartButtonEl =\n",
              "        document.querySelector('#df-edc81ecf-f4eb-45d6-af8f-78e3cdbb5018 button');\n",
              "      quickchartButtonEl.style.display =\n",
              "        google.colab.kernel.accessAllowed ? 'block' : 'none';\n",
              "    })();\n",
              "  </script>\n",
              "</div>\n",
              "    </div>\n",
              "  </div>\n"
            ]
          },
          "metadata": {},
          "execution_count": 56
        }
      ]
    },
    {
      "cell_type": "code",
      "source": [
        "# check the data type for each variable in the set\n",
        "print(train.dtypes)"
      ],
      "metadata": {
        "colab": {
          "base_uri": "https://localhost:8080/"
        },
        "id": "3ViUk7YIjazv",
        "outputId": "0f87a1cd-2456-4597-ecac-0d04fe0e3f57"
      },
      "execution_count": 57,
      "outputs": [
        {
          "output_type": "stream",
          "name": "stdout",
          "text": [
            "Id                 int64\n",
            "MSSubClass         int64\n",
            "MSZoning          object\n",
            "LotFrontage      float64\n",
            "LotArea            int64\n",
            "                  ...   \n",
            "MoSold             int64\n",
            "YrSold             int64\n",
            "SaleType          object\n",
            "SaleCondition     object\n",
            "SalePrice          int64\n",
            "Length: 81, dtype: object\n"
          ]
        }
      ]
    },
    {
      "cell_type": "code",
      "source": [
        "train.dtypes[train.dtypes == 'object']"
      ],
      "metadata": {
        "colab": {
          "base_uri": "https://localhost:8080/"
        },
        "id": "1tdhRM5opHVX",
        "outputId": "e404a9fd-22ef-41d2-f077-c033cfb151be"
      },
      "execution_count": 58,
      "outputs": [
        {
          "output_type": "execute_result",
          "data": {
            "text/plain": [
              "MSZoning         object\n",
              "Street           object\n",
              "Alley            object\n",
              "LotShape         object\n",
              "LandContour      object\n",
              "Utilities        object\n",
              "LotConfig        object\n",
              "LandSlope        object\n",
              "Neighborhood     object\n",
              "Condition1       object\n",
              "Condition2       object\n",
              "BldgType         object\n",
              "HouseStyle       object\n",
              "RoofStyle        object\n",
              "RoofMatl         object\n",
              "Exterior1st      object\n",
              "Exterior2nd      object\n",
              "MasVnrType       object\n",
              "ExterQual        object\n",
              "ExterCond        object\n",
              "Foundation       object\n",
              "BsmtQual         object\n",
              "BsmtCond         object\n",
              "BsmtExposure     object\n",
              "BsmtFinType1     object\n",
              "BsmtFinType2     object\n",
              "Heating          object\n",
              "HeatingQC        object\n",
              "CentralAir       object\n",
              "Electrical       object\n",
              "KitchenQual      object\n",
              "Functional       object\n",
              "FireplaceQu      object\n",
              "GarageType       object\n",
              "GarageFinish     object\n",
              "GarageQual       object\n",
              "GarageCond       object\n",
              "PavedDrive       object\n",
              "PoolQC           object\n",
              "Fence            object\n",
              "MiscFeature      object\n",
              "SaleType         object\n",
              "SaleCondition    object\n",
              "dtype: object"
            ]
          },
          "metadata": {},
          "execution_count": 58
        }
      ]
    },
    {
      "cell_type": "markdown",
      "source": [
        "# Cleaning the Dataset\n",
        "\n",
        "After looking at the dataset, there are some columns containing NaNs and column containing \"object\" type. Let's look into what the object types are!"
      ],
      "metadata": {
        "id": "eURTEqUEf9EG"
      }
    },
    {
      "cell_type": "code",
      "source": [
        "print(train['SaleType'].unique())"
      ],
      "metadata": {
        "colab": {
          "base_uri": "https://localhost:8080/"
        },
        "id": "PgZajcqXkgR7",
        "outputId": "3a9797f7-8343-450c-f50b-b448320cd1cb"
      },
      "execution_count": 59,
      "outputs": [
        {
          "output_type": "stream",
          "name": "stdout",
          "text": [
            "['WD' 'New' 'COD' 'ConLD' 'ConLI' 'CWD' 'ConLw' 'Con' 'Oth']\n"
          ]
        }
      ]
    },
    {
      "cell_type": "markdown",
      "source": [
        "These objects are strings and we can convert them into int or float in order to label them."
      ],
      "metadata": {
        "id": "7b8mTzHanGd4"
      }
    },
    {
      "cell_type": "code",
      "source": [
        "# variables of object type\n",
        "# they are categorical data that can be matched to a label for easier processing\n",
        "\n",
        "from sklearn.preprocessing import LabelEncoder\n",
        "\n",
        "objList = train.select_dtypes(include = \"object\").columns\n",
        "print(objList)"
      ],
      "metadata": {
        "colab": {
          "base_uri": "https://localhost:8080/"
        },
        "id": "JxSAjvennlGK",
        "outputId": "db21510e-52ec-40a0-f0f4-131a9c39695e"
      },
      "execution_count": 60,
      "outputs": [
        {
          "output_type": "stream",
          "name": "stdout",
          "text": [
            "Index(['MSZoning', 'Street', 'Alley', 'LotShape', 'LandContour', 'Utilities',\n",
            "       'LotConfig', 'LandSlope', 'Neighborhood', 'Condition1', 'Condition2',\n",
            "       'BldgType', 'HouseStyle', 'RoofStyle', 'RoofMatl', 'Exterior1st',\n",
            "       'Exterior2nd', 'MasVnrType', 'ExterQual', 'ExterCond', 'Foundation',\n",
            "       'BsmtQual', 'BsmtCond', 'BsmtExposure', 'BsmtFinType1', 'BsmtFinType2',\n",
            "       'Heating', 'HeatingQC', 'CentralAir', 'Electrical', 'KitchenQual',\n",
            "       'Functional', 'FireplaceQu', 'GarageType', 'GarageFinish', 'GarageQual',\n",
            "       'GarageCond', 'PavedDrive', 'PoolQC', 'Fence', 'MiscFeature',\n",
            "       'SaleType', 'SaleCondition'],\n",
            "      dtype='object')\n"
          ]
        }
      ]
    },
    {
      "cell_type": "code",
      "source": [
        "#for feat in objList:\n",
        "#  le = LabelEncoder()\n",
        "#  train[feat] = le.fit_transform(train[feat].astype(str))"
      ],
      "metadata": {
        "id": "Wx2klkWt7uLX"
      },
      "execution_count": 61,
      "outputs": []
    },
    {
      "cell_type": "code",
      "source": [
        "# convert string labels into value using label encoder\n",
        "for i in range(train.shape[1]):\n",
        "    if train[train.columns[i]].dtypes == object:\n",
        "        lbl = LabelEncoder()\n",
        "        lbl.fit(list(train[train.columns[i]].values) + list(test[test.columns[i]].values))\n",
        "        train[train.columns[i]] = lbl.transform(list(train[train.columns[i]].values))\n",
        "        test[train.columns[i]] = lbl.transform(list(test[test.columns[i]].values))"
      ],
      "metadata": {
        "id": "NZHa3NvKCeL_"
      },
      "execution_count": 62,
      "outputs": []
    },
    {
      "cell_type": "code",
      "source": [
        "# check training set after label encoder\n",
        "train.head(5)"
      ],
      "metadata": {
        "colab": {
          "base_uri": "https://localhost:8080/",
          "height": 255
        },
        "id": "1iogDuTE6XmN",
        "outputId": "b18435b2-86a0-4984-9452-d440889f240e"
      },
      "execution_count": 63,
      "outputs": [
        {
          "output_type": "execute_result",
          "data": {
            "text/plain": [
              "   Id  MSSubClass  MSZoning  LotFrontage  LotArea  Street  Alley  LotShape  \\\n",
              "0   1          60         3         65.0     8450       1      2         3   \n",
              "1   2          20         3         80.0     9600       1      2         3   \n",
              "2   3          60         3         68.0    11250       1      2         0   \n",
              "3   4          70         3         60.0     9550       1      2         0   \n",
              "4   5          60         3         84.0    14260       1      2         0   \n",
              "\n",
              "   LandContour  Utilities  ...  PoolArea  PoolQC  Fence  MiscFeature  MiscVal  \\\n",
              "0            3          0  ...         0       3      4            4        0   \n",
              "1            3          0  ...         0       3      4            4        0   \n",
              "2            3          0  ...         0       3      4            4        0   \n",
              "3            3          0  ...         0       3      4            4        0   \n",
              "4            3          0  ...         0       3      4            4        0   \n",
              "\n",
              "   MoSold  YrSold  SaleType  SaleCondition  SalePrice  \n",
              "0       2    2008         8              4     208500  \n",
              "1       5    2007         8              4     181500  \n",
              "2       9    2008         8              4     223500  \n",
              "3       2    2006         8              0     140000  \n",
              "4      12    2008         8              4     250000  \n",
              "\n",
              "[5 rows x 81 columns]"
            ],
            "text/html": [
              "\n",
              "  <div id=\"df-73fc205a-2f7f-4348-a9f3-97d2edf3100a\" class=\"colab-df-container\">\n",
              "    <div>\n",
              "<style scoped>\n",
              "    .dataframe tbody tr th:only-of-type {\n",
              "        vertical-align: middle;\n",
              "    }\n",
              "\n",
              "    .dataframe tbody tr th {\n",
              "        vertical-align: top;\n",
              "    }\n",
              "\n",
              "    .dataframe thead th {\n",
              "        text-align: right;\n",
              "    }\n",
              "</style>\n",
              "<table border=\"1\" class=\"dataframe\">\n",
              "  <thead>\n",
              "    <tr style=\"text-align: right;\">\n",
              "      <th></th>\n",
              "      <th>Id</th>\n",
              "      <th>MSSubClass</th>\n",
              "      <th>MSZoning</th>\n",
              "      <th>LotFrontage</th>\n",
              "      <th>LotArea</th>\n",
              "      <th>Street</th>\n",
              "      <th>Alley</th>\n",
              "      <th>LotShape</th>\n",
              "      <th>LandContour</th>\n",
              "      <th>Utilities</th>\n",
              "      <th>...</th>\n",
              "      <th>PoolArea</th>\n",
              "      <th>PoolQC</th>\n",
              "      <th>Fence</th>\n",
              "      <th>MiscFeature</th>\n",
              "      <th>MiscVal</th>\n",
              "      <th>MoSold</th>\n",
              "      <th>YrSold</th>\n",
              "      <th>SaleType</th>\n",
              "      <th>SaleCondition</th>\n",
              "      <th>SalePrice</th>\n",
              "    </tr>\n",
              "  </thead>\n",
              "  <tbody>\n",
              "    <tr>\n",
              "      <th>0</th>\n",
              "      <td>1</td>\n",
              "      <td>60</td>\n",
              "      <td>3</td>\n",
              "      <td>65.0</td>\n",
              "      <td>8450</td>\n",
              "      <td>1</td>\n",
              "      <td>2</td>\n",
              "      <td>3</td>\n",
              "      <td>3</td>\n",
              "      <td>0</td>\n",
              "      <td>...</td>\n",
              "      <td>0</td>\n",
              "      <td>3</td>\n",
              "      <td>4</td>\n",
              "      <td>4</td>\n",
              "      <td>0</td>\n",
              "      <td>2</td>\n",
              "      <td>2008</td>\n",
              "      <td>8</td>\n",
              "      <td>4</td>\n",
              "      <td>208500</td>\n",
              "    </tr>\n",
              "    <tr>\n",
              "      <th>1</th>\n",
              "      <td>2</td>\n",
              "      <td>20</td>\n",
              "      <td>3</td>\n",
              "      <td>80.0</td>\n",
              "      <td>9600</td>\n",
              "      <td>1</td>\n",
              "      <td>2</td>\n",
              "      <td>3</td>\n",
              "      <td>3</td>\n",
              "      <td>0</td>\n",
              "      <td>...</td>\n",
              "      <td>0</td>\n",
              "      <td>3</td>\n",
              "      <td>4</td>\n",
              "      <td>4</td>\n",
              "      <td>0</td>\n",
              "      <td>5</td>\n",
              "      <td>2007</td>\n",
              "      <td>8</td>\n",
              "      <td>4</td>\n",
              "      <td>181500</td>\n",
              "    </tr>\n",
              "    <tr>\n",
              "      <th>2</th>\n",
              "      <td>3</td>\n",
              "      <td>60</td>\n",
              "      <td>3</td>\n",
              "      <td>68.0</td>\n",
              "      <td>11250</td>\n",
              "      <td>1</td>\n",
              "      <td>2</td>\n",
              "      <td>0</td>\n",
              "      <td>3</td>\n",
              "      <td>0</td>\n",
              "      <td>...</td>\n",
              "      <td>0</td>\n",
              "      <td>3</td>\n",
              "      <td>4</td>\n",
              "      <td>4</td>\n",
              "      <td>0</td>\n",
              "      <td>9</td>\n",
              "      <td>2008</td>\n",
              "      <td>8</td>\n",
              "      <td>4</td>\n",
              "      <td>223500</td>\n",
              "    </tr>\n",
              "    <tr>\n",
              "      <th>3</th>\n",
              "      <td>4</td>\n",
              "      <td>70</td>\n",
              "      <td>3</td>\n",
              "      <td>60.0</td>\n",
              "      <td>9550</td>\n",
              "      <td>1</td>\n",
              "      <td>2</td>\n",
              "      <td>0</td>\n",
              "      <td>3</td>\n",
              "      <td>0</td>\n",
              "      <td>...</td>\n",
              "      <td>0</td>\n",
              "      <td>3</td>\n",
              "      <td>4</td>\n",
              "      <td>4</td>\n",
              "      <td>0</td>\n",
              "      <td>2</td>\n",
              "      <td>2006</td>\n",
              "      <td>8</td>\n",
              "      <td>0</td>\n",
              "      <td>140000</td>\n",
              "    </tr>\n",
              "    <tr>\n",
              "      <th>4</th>\n",
              "      <td>5</td>\n",
              "      <td>60</td>\n",
              "      <td>3</td>\n",
              "      <td>84.0</td>\n",
              "      <td>14260</td>\n",
              "      <td>1</td>\n",
              "      <td>2</td>\n",
              "      <td>0</td>\n",
              "      <td>3</td>\n",
              "      <td>0</td>\n",
              "      <td>...</td>\n",
              "      <td>0</td>\n",
              "      <td>3</td>\n",
              "      <td>4</td>\n",
              "      <td>4</td>\n",
              "      <td>0</td>\n",
              "      <td>12</td>\n",
              "      <td>2008</td>\n",
              "      <td>8</td>\n",
              "      <td>4</td>\n",
              "      <td>250000</td>\n",
              "    </tr>\n",
              "  </tbody>\n",
              "</table>\n",
              "<p>5 rows × 81 columns</p>\n",
              "</div>\n",
              "    <div class=\"colab-df-buttons\">\n",
              "\n",
              "  <div class=\"colab-df-container\">\n",
              "    <button class=\"colab-df-convert\" onclick=\"convertToInteractive('df-73fc205a-2f7f-4348-a9f3-97d2edf3100a')\"\n",
              "            title=\"Convert this dataframe to an interactive table.\"\n",
              "            style=\"display:none;\">\n",
              "\n",
              "  <svg xmlns=\"http://www.w3.org/2000/svg\" height=\"24px\" viewBox=\"0 -960 960 960\">\n",
              "    <path d=\"M120-120v-720h720v720H120Zm60-500h600v-160H180v160Zm220 220h160v-160H400v160Zm0 220h160v-160H400v160ZM180-400h160v-160H180v160Zm440 0h160v-160H620v160ZM180-180h160v-160H180v160Zm440 0h160v-160H620v160Z\"/>\n",
              "  </svg>\n",
              "    </button>\n",
              "\n",
              "  <style>\n",
              "    .colab-df-container {\n",
              "      display:flex;\n",
              "      gap: 12px;\n",
              "    }\n",
              "\n",
              "    .colab-df-convert {\n",
              "      background-color: #E8F0FE;\n",
              "      border: none;\n",
              "      border-radius: 50%;\n",
              "      cursor: pointer;\n",
              "      display: none;\n",
              "      fill: #1967D2;\n",
              "      height: 32px;\n",
              "      padding: 0 0 0 0;\n",
              "      width: 32px;\n",
              "    }\n",
              "\n",
              "    .colab-df-convert:hover {\n",
              "      background-color: #E2EBFA;\n",
              "      box-shadow: 0px 1px 2px rgba(60, 64, 67, 0.3), 0px 1px 3px 1px rgba(60, 64, 67, 0.15);\n",
              "      fill: #174EA6;\n",
              "    }\n",
              "\n",
              "    .colab-df-buttons div {\n",
              "      margin-bottom: 4px;\n",
              "    }\n",
              "\n",
              "    [theme=dark] .colab-df-convert {\n",
              "      background-color: #3B4455;\n",
              "      fill: #D2E3FC;\n",
              "    }\n",
              "\n",
              "    [theme=dark] .colab-df-convert:hover {\n",
              "      background-color: #434B5C;\n",
              "      box-shadow: 0px 1px 3px 1px rgba(0, 0, 0, 0.15);\n",
              "      filter: drop-shadow(0px 1px 2px rgba(0, 0, 0, 0.3));\n",
              "      fill: #FFFFFF;\n",
              "    }\n",
              "  </style>\n",
              "\n",
              "    <script>\n",
              "      const buttonEl =\n",
              "        document.querySelector('#df-73fc205a-2f7f-4348-a9f3-97d2edf3100a button.colab-df-convert');\n",
              "      buttonEl.style.display =\n",
              "        google.colab.kernel.accessAllowed ? 'block' : 'none';\n",
              "\n",
              "      async function convertToInteractive(key) {\n",
              "        const element = document.querySelector('#df-73fc205a-2f7f-4348-a9f3-97d2edf3100a');\n",
              "        const dataTable =\n",
              "          await google.colab.kernel.invokeFunction('convertToInteractive',\n",
              "                                                    [key], {});\n",
              "        if (!dataTable) return;\n",
              "\n",
              "        const docLinkHtml = 'Like what you see? Visit the ' +\n",
              "          '<a target=\"_blank\" href=https://colab.research.google.com/notebooks/data_table.ipynb>data table notebook</a>'\n",
              "          + ' to learn more about interactive tables.';\n",
              "        element.innerHTML = '';\n",
              "        dataTable['output_type'] = 'display_data';\n",
              "        await google.colab.output.renderOutput(dataTable, element);\n",
              "        const docLink = document.createElement('div');\n",
              "        docLink.innerHTML = docLinkHtml;\n",
              "        element.appendChild(docLink);\n",
              "      }\n",
              "    </script>\n",
              "  </div>\n",
              "\n",
              "\n",
              "<div id=\"df-cbb7bee5-e802-419d-b004-e917e9402d55\">\n",
              "  <button class=\"colab-df-quickchart\" onclick=\"quickchart('df-cbb7bee5-e802-419d-b004-e917e9402d55')\"\n",
              "            title=\"Suggest charts\"\n",
              "            style=\"display:none;\">\n",
              "\n",
              "<svg xmlns=\"http://www.w3.org/2000/svg\" height=\"24px\"viewBox=\"0 0 24 24\"\n",
              "     width=\"24px\">\n",
              "    <g>\n",
              "        <path d=\"M19 3H5c-1.1 0-2 .9-2 2v14c0 1.1.9 2 2 2h14c1.1 0 2-.9 2-2V5c0-1.1-.9-2-2-2zM9 17H7v-7h2v7zm4 0h-2V7h2v10zm4 0h-2v-4h2v4z\"/>\n",
              "    </g>\n",
              "</svg>\n",
              "  </button>\n",
              "\n",
              "<style>\n",
              "  .colab-df-quickchart {\n",
              "      --bg-color: #E8F0FE;\n",
              "      --fill-color: #1967D2;\n",
              "      --hover-bg-color: #E2EBFA;\n",
              "      --hover-fill-color: #174EA6;\n",
              "      --disabled-fill-color: #AAA;\n",
              "      --disabled-bg-color: #DDD;\n",
              "  }\n",
              "\n",
              "  [theme=dark] .colab-df-quickchart {\n",
              "      --bg-color: #3B4455;\n",
              "      --fill-color: #D2E3FC;\n",
              "      --hover-bg-color: #434B5C;\n",
              "      --hover-fill-color: #FFFFFF;\n",
              "      --disabled-bg-color: #3B4455;\n",
              "      --disabled-fill-color: #666;\n",
              "  }\n",
              "\n",
              "  .colab-df-quickchart {\n",
              "    background-color: var(--bg-color);\n",
              "    border: none;\n",
              "    border-radius: 50%;\n",
              "    cursor: pointer;\n",
              "    display: none;\n",
              "    fill: var(--fill-color);\n",
              "    height: 32px;\n",
              "    padding: 0;\n",
              "    width: 32px;\n",
              "  }\n",
              "\n",
              "  .colab-df-quickchart:hover {\n",
              "    background-color: var(--hover-bg-color);\n",
              "    box-shadow: 0 1px 2px rgba(60, 64, 67, 0.3), 0 1px 3px 1px rgba(60, 64, 67, 0.15);\n",
              "    fill: var(--button-hover-fill-color);\n",
              "  }\n",
              "\n",
              "  .colab-df-quickchart-complete:disabled,\n",
              "  .colab-df-quickchart-complete:disabled:hover {\n",
              "    background-color: var(--disabled-bg-color);\n",
              "    fill: var(--disabled-fill-color);\n",
              "    box-shadow: none;\n",
              "  }\n",
              "\n",
              "  .colab-df-spinner {\n",
              "    border: 2px solid var(--fill-color);\n",
              "    border-color: transparent;\n",
              "    border-bottom-color: var(--fill-color);\n",
              "    animation:\n",
              "      spin 1s steps(1) infinite;\n",
              "  }\n",
              "\n",
              "  @keyframes spin {\n",
              "    0% {\n",
              "      border-color: transparent;\n",
              "      border-bottom-color: var(--fill-color);\n",
              "      border-left-color: var(--fill-color);\n",
              "    }\n",
              "    20% {\n",
              "      border-color: transparent;\n",
              "      border-left-color: var(--fill-color);\n",
              "      border-top-color: var(--fill-color);\n",
              "    }\n",
              "    30% {\n",
              "      border-color: transparent;\n",
              "      border-left-color: var(--fill-color);\n",
              "      border-top-color: var(--fill-color);\n",
              "      border-right-color: var(--fill-color);\n",
              "    }\n",
              "    40% {\n",
              "      border-color: transparent;\n",
              "      border-right-color: var(--fill-color);\n",
              "      border-top-color: var(--fill-color);\n",
              "    }\n",
              "    60% {\n",
              "      border-color: transparent;\n",
              "      border-right-color: var(--fill-color);\n",
              "    }\n",
              "    80% {\n",
              "      border-color: transparent;\n",
              "      border-right-color: var(--fill-color);\n",
              "      border-bottom-color: var(--fill-color);\n",
              "    }\n",
              "    90% {\n",
              "      border-color: transparent;\n",
              "      border-bottom-color: var(--fill-color);\n",
              "    }\n",
              "  }\n",
              "</style>\n",
              "\n",
              "  <script>\n",
              "    async function quickchart(key) {\n",
              "      const quickchartButtonEl =\n",
              "        document.querySelector('#' + key + ' button');\n",
              "      quickchartButtonEl.disabled = true;  // To prevent multiple clicks.\n",
              "      quickchartButtonEl.classList.add('colab-df-spinner');\n",
              "      try {\n",
              "        const charts = await google.colab.kernel.invokeFunction(\n",
              "            'suggestCharts', [key], {});\n",
              "      } catch (error) {\n",
              "        console.error('Error during call to suggestCharts:', error);\n",
              "      }\n",
              "      quickchartButtonEl.classList.remove('colab-df-spinner');\n",
              "      quickchartButtonEl.classList.add('colab-df-quickchart-complete');\n",
              "    }\n",
              "    (() => {\n",
              "      let quickchartButtonEl =\n",
              "        document.querySelector('#df-cbb7bee5-e802-419d-b004-e917e9402d55 button');\n",
              "      quickchartButtonEl.style.display =\n",
              "        google.colab.kernel.accessAllowed ? 'block' : 'none';\n",
              "    })();\n",
              "  </script>\n",
              "</div>\n",
              "    </div>\n",
              "  </div>\n"
            ]
          },
          "metadata": {},
          "execution_count": 63
        }
      ]
    },
    {
      "cell_type": "code",
      "source": [
        "# check testing set after label encoder\n",
        "test.head(5)"
      ],
      "metadata": {
        "colab": {
          "base_uri": "https://localhost:8080/",
          "height": 255
        },
        "id": "Ibkpie9J6bfR",
        "outputId": "2788c1ac-04a8-4278-fe4c-7712cebf2a29"
      },
      "execution_count": 64,
      "outputs": [
        {
          "output_type": "execute_result",
          "data": {
            "text/plain": [
              "     Id  MSSubClass  MSZoning  LotFrontage  LotArea  Street  Alley  LotShape  \\\n",
              "0  1461          20         2         80.0    11622       1      2         3   \n",
              "1  1462          20         3         81.0    14267       1      2         0   \n",
              "2  1463          60         3         74.0    13830       1      2         0   \n",
              "3  1464          60         3         78.0     9978       1      2         0   \n",
              "4  1465         120         3         43.0     5005       1      2         0   \n",
              "\n",
              "   LandContour  Utilities  ...  ScreenPorch  PoolArea  PoolQC  Fence  \\\n",
              "0            3          0  ...          120         0       3      2   \n",
              "1            3          0  ...            0         0       3      4   \n",
              "2            3          0  ...            0         0       3      2   \n",
              "3            3          0  ...            0         0       3      4   \n",
              "4            1          0  ...          144         0       3      4   \n",
              "\n",
              "   MiscFeature  MiscVal  MoSold  YrSold  SaleType  SaleCondition  \n",
              "0            4        0       6    2010         8              4  \n",
              "1            0    12500       6    2010         8              4  \n",
              "2            4        0       3    2010         8              4  \n",
              "3            4        0       6    2010         8              4  \n",
              "4            4        0       1    2010         8              4  \n",
              "\n",
              "[5 rows x 80 columns]"
            ],
            "text/html": [
              "\n",
              "  <div id=\"df-6ca78aec-7a3e-4930-9270-c4d6116747d0\" class=\"colab-df-container\">\n",
              "    <div>\n",
              "<style scoped>\n",
              "    .dataframe tbody tr th:only-of-type {\n",
              "        vertical-align: middle;\n",
              "    }\n",
              "\n",
              "    .dataframe tbody tr th {\n",
              "        vertical-align: top;\n",
              "    }\n",
              "\n",
              "    .dataframe thead th {\n",
              "        text-align: right;\n",
              "    }\n",
              "</style>\n",
              "<table border=\"1\" class=\"dataframe\">\n",
              "  <thead>\n",
              "    <tr style=\"text-align: right;\">\n",
              "      <th></th>\n",
              "      <th>Id</th>\n",
              "      <th>MSSubClass</th>\n",
              "      <th>MSZoning</th>\n",
              "      <th>LotFrontage</th>\n",
              "      <th>LotArea</th>\n",
              "      <th>Street</th>\n",
              "      <th>Alley</th>\n",
              "      <th>LotShape</th>\n",
              "      <th>LandContour</th>\n",
              "      <th>Utilities</th>\n",
              "      <th>...</th>\n",
              "      <th>ScreenPorch</th>\n",
              "      <th>PoolArea</th>\n",
              "      <th>PoolQC</th>\n",
              "      <th>Fence</th>\n",
              "      <th>MiscFeature</th>\n",
              "      <th>MiscVal</th>\n",
              "      <th>MoSold</th>\n",
              "      <th>YrSold</th>\n",
              "      <th>SaleType</th>\n",
              "      <th>SaleCondition</th>\n",
              "    </tr>\n",
              "  </thead>\n",
              "  <tbody>\n",
              "    <tr>\n",
              "      <th>0</th>\n",
              "      <td>1461</td>\n",
              "      <td>20</td>\n",
              "      <td>2</td>\n",
              "      <td>80.0</td>\n",
              "      <td>11622</td>\n",
              "      <td>1</td>\n",
              "      <td>2</td>\n",
              "      <td>3</td>\n",
              "      <td>3</td>\n",
              "      <td>0</td>\n",
              "      <td>...</td>\n",
              "      <td>120</td>\n",
              "      <td>0</td>\n",
              "      <td>3</td>\n",
              "      <td>2</td>\n",
              "      <td>4</td>\n",
              "      <td>0</td>\n",
              "      <td>6</td>\n",
              "      <td>2010</td>\n",
              "      <td>8</td>\n",
              "      <td>4</td>\n",
              "    </tr>\n",
              "    <tr>\n",
              "      <th>1</th>\n",
              "      <td>1462</td>\n",
              "      <td>20</td>\n",
              "      <td>3</td>\n",
              "      <td>81.0</td>\n",
              "      <td>14267</td>\n",
              "      <td>1</td>\n",
              "      <td>2</td>\n",
              "      <td>0</td>\n",
              "      <td>3</td>\n",
              "      <td>0</td>\n",
              "      <td>...</td>\n",
              "      <td>0</td>\n",
              "      <td>0</td>\n",
              "      <td>3</td>\n",
              "      <td>4</td>\n",
              "      <td>0</td>\n",
              "      <td>12500</td>\n",
              "      <td>6</td>\n",
              "      <td>2010</td>\n",
              "      <td>8</td>\n",
              "      <td>4</td>\n",
              "    </tr>\n",
              "    <tr>\n",
              "      <th>2</th>\n",
              "      <td>1463</td>\n",
              "      <td>60</td>\n",
              "      <td>3</td>\n",
              "      <td>74.0</td>\n",
              "      <td>13830</td>\n",
              "      <td>1</td>\n",
              "      <td>2</td>\n",
              "      <td>0</td>\n",
              "      <td>3</td>\n",
              "      <td>0</td>\n",
              "      <td>...</td>\n",
              "      <td>0</td>\n",
              "      <td>0</td>\n",
              "      <td>3</td>\n",
              "      <td>2</td>\n",
              "      <td>4</td>\n",
              "      <td>0</td>\n",
              "      <td>3</td>\n",
              "      <td>2010</td>\n",
              "      <td>8</td>\n",
              "      <td>4</td>\n",
              "    </tr>\n",
              "    <tr>\n",
              "      <th>3</th>\n",
              "      <td>1464</td>\n",
              "      <td>60</td>\n",
              "      <td>3</td>\n",
              "      <td>78.0</td>\n",
              "      <td>9978</td>\n",
              "      <td>1</td>\n",
              "      <td>2</td>\n",
              "      <td>0</td>\n",
              "      <td>3</td>\n",
              "      <td>0</td>\n",
              "      <td>...</td>\n",
              "      <td>0</td>\n",
              "      <td>0</td>\n",
              "      <td>3</td>\n",
              "      <td>4</td>\n",
              "      <td>4</td>\n",
              "      <td>0</td>\n",
              "      <td>6</td>\n",
              "      <td>2010</td>\n",
              "      <td>8</td>\n",
              "      <td>4</td>\n",
              "    </tr>\n",
              "    <tr>\n",
              "      <th>4</th>\n",
              "      <td>1465</td>\n",
              "      <td>120</td>\n",
              "      <td>3</td>\n",
              "      <td>43.0</td>\n",
              "      <td>5005</td>\n",
              "      <td>1</td>\n",
              "      <td>2</td>\n",
              "      <td>0</td>\n",
              "      <td>1</td>\n",
              "      <td>0</td>\n",
              "      <td>...</td>\n",
              "      <td>144</td>\n",
              "      <td>0</td>\n",
              "      <td>3</td>\n",
              "      <td>4</td>\n",
              "      <td>4</td>\n",
              "      <td>0</td>\n",
              "      <td>1</td>\n",
              "      <td>2010</td>\n",
              "      <td>8</td>\n",
              "      <td>4</td>\n",
              "    </tr>\n",
              "  </tbody>\n",
              "</table>\n",
              "<p>5 rows × 80 columns</p>\n",
              "</div>\n",
              "    <div class=\"colab-df-buttons\">\n",
              "\n",
              "  <div class=\"colab-df-container\">\n",
              "    <button class=\"colab-df-convert\" onclick=\"convertToInteractive('df-6ca78aec-7a3e-4930-9270-c4d6116747d0')\"\n",
              "            title=\"Convert this dataframe to an interactive table.\"\n",
              "            style=\"display:none;\">\n",
              "\n",
              "  <svg xmlns=\"http://www.w3.org/2000/svg\" height=\"24px\" viewBox=\"0 -960 960 960\">\n",
              "    <path d=\"M120-120v-720h720v720H120Zm60-500h600v-160H180v160Zm220 220h160v-160H400v160Zm0 220h160v-160H400v160ZM180-400h160v-160H180v160Zm440 0h160v-160H620v160ZM180-180h160v-160H180v160Zm440 0h160v-160H620v160Z\"/>\n",
              "  </svg>\n",
              "    </button>\n",
              "\n",
              "  <style>\n",
              "    .colab-df-container {\n",
              "      display:flex;\n",
              "      gap: 12px;\n",
              "    }\n",
              "\n",
              "    .colab-df-convert {\n",
              "      background-color: #E8F0FE;\n",
              "      border: none;\n",
              "      border-radius: 50%;\n",
              "      cursor: pointer;\n",
              "      display: none;\n",
              "      fill: #1967D2;\n",
              "      height: 32px;\n",
              "      padding: 0 0 0 0;\n",
              "      width: 32px;\n",
              "    }\n",
              "\n",
              "    .colab-df-convert:hover {\n",
              "      background-color: #E2EBFA;\n",
              "      box-shadow: 0px 1px 2px rgba(60, 64, 67, 0.3), 0px 1px 3px 1px rgba(60, 64, 67, 0.15);\n",
              "      fill: #174EA6;\n",
              "    }\n",
              "\n",
              "    .colab-df-buttons div {\n",
              "      margin-bottom: 4px;\n",
              "    }\n",
              "\n",
              "    [theme=dark] .colab-df-convert {\n",
              "      background-color: #3B4455;\n",
              "      fill: #D2E3FC;\n",
              "    }\n",
              "\n",
              "    [theme=dark] .colab-df-convert:hover {\n",
              "      background-color: #434B5C;\n",
              "      box-shadow: 0px 1px 3px 1px rgba(0, 0, 0, 0.15);\n",
              "      filter: drop-shadow(0px 1px 2px rgba(0, 0, 0, 0.3));\n",
              "      fill: #FFFFFF;\n",
              "    }\n",
              "  </style>\n",
              "\n",
              "    <script>\n",
              "      const buttonEl =\n",
              "        document.querySelector('#df-6ca78aec-7a3e-4930-9270-c4d6116747d0 button.colab-df-convert');\n",
              "      buttonEl.style.display =\n",
              "        google.colab.kernel.accessAllowed ? 'block' : 'none';\n",
              "\n",
              "      async function convertToInteractive(key) {\n",
              "        const element = document.querySelector('#df-6ca78aec-7a3e-4930-9270-c4d6116747d0');\n",
              "        const dataTable =\n",
              "          await google.colab.kernel.invokeFunction('convertToInteractive',\n",
              "                                                    [key], {});\n",
              "        if (!dataTable) return;\n",
              "\n",
              "        const docLinkHtml = 'Like what you see? Visit the ' +\n",
              "          '<a target=\"_blank\" href=https://colab.research.google.com/notebooks/data_table.ipynb>data table notebook</a>'\n",
              "          + ' to learn more about interactive tables.';\n",
              "        element.innerHTML = '';\n",
              "        dataTable['output_type'] = 'display_data';\n",
              "        await google.colab.output.renderOutput(dataTable, element);\n",
              "        const docLink = document.createElement('div');\n",
              "        docLink.innerHTML = docLinkHtml;\n",
              "        element.appendChild(docLink);\n",
              "      }\n",
              "    </script>\n",
              "  </div>\n",
              "\n",
              "\n",
              "<div id=\"df-37af659f-b2f8-4e1a-ab1c-4fe7703c2076\">\n",
              "  <button class=\"colab-df-quickchart\" onclick=\"quickchart('df-37af659f-b2f8-4e1a-ab1c-4fe7703c2076')\"\n",
              "            title=\"Suggest charts\"\n",
              "            style=\"display:none;\">\n",
              "\n",
              "<svg xmlns=\"http://www.w3.org/2000/svg\" height=\"24px\"viewBox=\"0 0 24 24\"\n",
              "     width=\"24px\">\n",
              "    <g>\n",
              "        <path d=\"M19 3H5c-1.1 0-2 .9-2 2v14c0 1.1.9 2 2 2h14c1.1 0 2-.9 2-2V5c0-1.1-.9-2-2-2zM9 17H7v-7h2v7zm4 0h-2V7h2v10zm4 0h-2v-4h2v4z\"/>\n",
              "    </g>\n",
              "</svg>\n",
              "  </button>\n",
              "\n",
              "<style>\n",
              "  .colab-df-quickchart {\n",
              "      --bg-color: #E8F0FE;\n",
              "      --fill-color: #1967D2;\n",
              "      --hover-bg-color: #E2EBFA;\n",
              "      --hover-fill-color: #174EA6;\n",
              "      --disabled-fill-color: #AAA;\n",
              "      --disabled-bg-color: #DDD;\n",
              "  }\n",
              "\n",
              "  [theme=dark] .colab-df-quickchart {\n",
              "      --bg-color: #3B4455;\n",
              "      --fill-color: #D2E3FC;\n",
              "      --hover-bg-color: #434B5C;\n",
              "      --hover-fill-color: #FFFFFF;\n",
              "      --disabled-bg-color: #3B4455;\n",
              "      --disabled-fill-color: #666;\n",
              "  }\n",
              "\n",
              "  .colab-df-quickchart {\n",
              "    background-color: var(--bg-color);\n",
              "    border: none;\n",
              "    border-radius: 50%;\n",
              "    cursor: pointer;\n",
              "    display: none;\n",
              "    fill: var(--fill-color);\n",
              "    height: 32px;\n",
              "    padding: 0;\n",
              "    width: 32px;\n",
              "  }\n",
              "\n",
              "  .colab-df-quickchart:hover {\n",
              "    background-color: var(--hover-bg-color);\n",
              "    box-shadow: 0 1px 2px rgba(60, 64, 67, 0.3), 0 1px 3px 1px rgba(60, 64, 67, 0.15);\n",
              "    fill: var(--button-hover-fill-color);\n",
              "  }\n",
              "\n",
              "  .colab-df-quickchart-complete:disabled,\n",
              "  .colab-df-quickchart-complete:disabled:hover {\n",
              "    background-color: var(--disabled-bg-color);\n",
              "    fill: var(--disabled-fill-color);\n",
              "    box-shadow: none;\n",
              "  }\n",
              "\n",
              "  .colab-df-spinner {\n",
              "    border: 2px solid var(--fill-color);\n",
              "    border-color: transparent;\n",
              "    border-bottom-color: var(--fill-color);\n",
              "    animation:\n",
              "      spin 1s steps(1) infinite;\n",
              "  }\n",
              "\n",
              "  @keyframes spin {\n",
              "    0% {\n",
              "      border-color: transparent;\n",
              "      border-bottom-color: var(--fill-color);\n",
              "      border-left-color: var(--fill-color);\n",
              "    }\n",
              "    20% {\n",
              "      border-color: transparent;\n",
              "      border-left-color: var(--fill-color);\n",
              "      border-top-color: var(--fill-color);\n",
              "    }\n",
              "    30% {\n",
              "      border-color: transparent;\n",
              "      border-left-color: var(--fill-color);\n",
              "      border-top-color: var(--fill-color);\n",
              "      border-right-color: var(--fill-color);\n",
              "    }\n",
              "    40% {\n",
              "      border-color: transparent;\n",
              "      border-right-color: var(--fill-color);\n",
              "      border-top-color: var(--fill-color);\n",
              "    }\n",
              "    60% {\n",
              "      border-color: transparent;\n",
              "      border-right-color: var(--fill-color);\n",
              "    }\n",
              "    80% {\n",
              "      border-color: transparent;\n",
              "      border-right-color: var(--fill-color);\n",
              "      border-bottom-color: var(--fill-color);\n",
              "    }\n",
              "    90% {\n",
              "      border-color: transparent;\n",
              "      border-bottom-color: var(--fill-color);\n",
              "    }\n",
              "  }\n",
              "</style>\n",
              "\n",
              "  <script>\n",
              "    async function quickchart(key) {\n",
              "      const quickchartButtonEl =\n",
              "        document.querySelector('#' + key + ' button');\n",
              "      quickchartButtonEl.disabled = true;  // To prevent multiple clicks.\n",
              "      quickchartButtonEl.classList.add('colab-df-spinner');\n",
              "      try {\n",
              "        const charts = await google.colab.kernel.invokeFunction(\n",
              "            'suggestCharts', [key], {});\n",
              "      } catch (error) {\n",
              "        console.error('Error during call to suggestCharts:', error);\n",
              "      }\n",
              "      quickchartButtonEl.classList.remove('colab-df-spinner');\n",
              "      quickchartButtonEl.classList.add('colab-df-quickchart-complete');\n",
              "    }\n",
              "    (() => {\n",
              "      let quickchartButtonEl =\n",
              "        document.querySelector('#df-37af659f-b2f8-4e1a-ab1c-4fe7703c2076 button');\n",
              "      quickchartButtonEl.style.display =\n",
              "        google.colab.kernel.accessAllowed ? 'block' : 'none';\n",
              "    })();\n",
              "  </script>\n",
              "</div>\n",
              "    </div>\n",
              "  </div>\n"
            ]
          },
          "metadata": {},
          "execution_count": 64
        }
      ]
    },
    {
      "cell_type": "code",
      "source": [
        "# find which column contains null values in training set\n",
        "train.columns[train.isnull().any()].tolist()"
      ],
      "metadata": {
        "colab": {
          "base_uri": "https://localhost:8080/"
        },
        "id": "M1zv0S_Hyj6u",
        "outputId": "c45d7a0e-363b-460b-9428-76ec45e75e10"
      },
      "execution_count": 65,
      "outputs": [
        {
          "output_type": "execute_result",
          "data": {
            "text/plain": [
              "['LotFrontage', 'MasVnrArea', 'GarageYrBlt']"
            ]
          },
          "metadata": {},
          "execution_count": 65
        }
      ]
    },
    {
      "cell_type": "code",
      "source": [
        "# how many nulls are within each of these three columns for training set\n",
        "print('Lot Frontage: ' + str(train['LotFrontage'].isnull().sum()))\n",
        "print('MasVnrArea: ' + str(train['MasVnrArea'].isnull().sum()))\n",
        "print('GarageYrBlt: ' + str(train['GarageYrBlt'].isnull().sum()))"
      ],
      "metadata": {
        "colab": {
          "base_uri": "https://localhost:8080/"
        },
        "id": "8peXzuMu2YyV",
        "outputId": "b9dc1125-527f-4d9f-a01c-aa7aa1e289ef"
      },
      "execution_count": 66,
      "outputs": [
        {
          "output_type": "stream",
          "name": "stdout",
          "text": [
            "Lot Frontage: 259\n",
            "MasVnrArea: 8\n",
            "GarageYrBlt: 81\n"
          ]
        }
      ]
    },
    {
      "cell_type": "code",
      "source": [
        "# find which column contains null values in testing set\n",
        "test.columns[test.isnull().any()].tolist()"
      ],
      "metadata": {
        "colab": {
          "base_uri": "https://localhost:8080/"
        },
        "id": "dUMKx3Lj4J0F",
        "outputId": "2459c6b4-26a6-4fb9-e974-caa99d2a6c1c"
      },
      "execution_count": 67,
      "outputs": [
        {
          "output_type": "execute_result",
          "data": {
            "text/plain": [
              "['LotFrontage',\n",
              " 'MasVnrArea',\n",
              " 'BsmtFinSF1',\n",
              " 'BsmtFinSF2',\n",
              " 'BsmtUnfSF',\n",
              " 'TotalBsmtSF',\n",
              " 'BsmtFullBath',\n",
              " 'BsmtHalfBath',\n",
              " 'GarageYrBlt',\n",
              " 'GarageCars',\n",
              " 'GarageArea']"
            ]
          },
          "metadata": {},
          "execution_count": 67
        }
      ]
    },
    {
      "cell_type": "code",
      "source": [
        "# how many nulls are within each of these three columns testing set\n",
        "null_sum_per_column = test.isnull().sum()\n",
        "print(\"\\nSum of Null Values for Each Column:\")\n",
        "print(null_sum_per_column[null_sum_per_column > 0])"
      ],
      "metadata": {
        "colab": {
          "base_uri": "https://localhost:8080/"
        },
        "outputId": "bb2732a0-4c7a-4ec0-a50e-c7f9e1e87096",
        "id": "FBtoxQJ33AM8"
      },
      "execution_count": 68,
      "outputs": [
        {
          "output_type": "stream",
          "name": "stdout",
          "text": [
            "\n",
            "Sum of Null Values for Each Column:\n",
            "LotFrontage     227\n",
            "MasVnrArea       15\n",
            "BsmtFinSF1        1\n",
            "BsmtFinSF2        1\n",
            "BsmtUnfSF         1\n",
            "TotalBsmtSF       1\n",
            "BsmtFullBath      2\n",
            "BsmtHalfBath      2\n",
            "GarageYrBlt      78\n",
            "GarageCars        1\n",
            "GarageArea        1\n",
            "dtype: int64\n"
          ]
        }
      ]
    },
    {
      "cell_type": "markdown",
      "source": [
        "When comparing the amount of null values of these columns between the training and testing dataset, three variables have higher amount of null values than others. These are LotFrontage, MasVnrArea, and GarageYrBlt. As such, we can drop these columns. As for the nulls found in the testing dataset, we can fill it with the median value of the column as to not skew the data."
      ],
      "metadata": {
        "id": "69tQxYIR3G_w"
      }
    },
    {
      "cell_type": "code",
      "source": [
        "# drop the three columns that we stated\n",
        "drop_col = ['LotFrontage', 'MasVnrArea', 'GarageYrBlt']\n",
        "train = train.drop(drop_col, axis = 1)\n",
        "test = test.drop(drop_col, axis = 1)"
      ],
      "metadata": {
        "id": "1YcuuDrUyUbe"
      },
      "execution_count": 69,
      "outputs": []
    },
    {
      "cell_type": "code",
      "source": [
        "# impute the median into all the null values\n",
        "test.fillna(test.median(), inplace = True)"
      ],
      "metadata": {
        "id": "p-HML32tzVbm"
      },
      "execution_count": 70,
      "outputs": []
    },
    {
      "cell_type": "code",
      "source": [
        "# check that there are now no null values in testing set\n",
        "test.isnull().sum().sum()"
      ],
      "metadata": {
        "colab": {
          "base_uri": "https://localhost:8080/"
        },
        "id": "rLnCF5Ffzm3u",
        "outputId": "a5d23dd1-c9e4-4a13-ce0a-cd94990cf2e0"
      },
      "execution_count": 71,
      "outputs": [
        {
          "output_type": "execute_result",
          "data": {
            "text/plain": [
              "0"
            ]
          },
          "metadata": {},
          "execution_count": 71
        }
      ]
    },
    {
      "cell_type": "markdown",
      "source": [
        "# Exploratory Analysis"
      ],
      "metadata": {
        "id": "U5TvTgF34K_T"
      }
    },
    {
      "cell_type": "markdown",
      "source": [
        "Since the goal is to predict sales prices of houses, let's look into the distribution of sales prices."
      ],
      "metadata": {
        "id": "QskmSNRk6Atn"
      }
    },
    {
      "cell_type": "code",
      "source": [
        "# distribution of sale prices in the training set\n",
        "train['SalePrice'].describe()"
      ],
      "metadata": {
        "colab": {
          "base_uri": "https://localhost:8080/"
        },
        "id": "xoqFEIrg-KTz",
        "outputId": "8f0954fd-2143-4c81-b57e-20db04704b54"
      },
      "execution_count": 72,
      "outputs": [
        {
          "output_type": "execute_result",
          "data": {
            "text/plain": [
              "count      1460.000000\n",
              "mean     180921.195890\n",
              "std       79442.502883\n",
              "min       34900.000000\n",
              "25%      129975.000000\n",
              "50%      163000.000000\n",
              "75%      214000.000000\n",
              "max      755000.000000\n",
              "Name: SalePrice, dtype: float64"
            ]
          },
          "metadata": {},
          "execution_count": 72
        }
      ]
    },
    {
      "cell_type": "code",
      "source": [
        "# print historgram of sale prices of training set (data is skewed)\n",
        "sp = sns.displot(train['SalePrice'], bins = 50, kde = True)\n",
        "sp.set(xlabel = \"Sale Price\", ylabel = \"Frequency\")"
      ],
      "metadata": {
        "colab": {
          "base_uri": "https://localhost:8080/",
          "height": 524
        },
        "id": "oOUY_jd5CnLc",
        "outputId": "3d1e4d2f-e5ee-4f83-d4bb-da8a6c401064"
      },
      "execution_count": 73,
      "outputs": [
        {
          "output_type": "execute_result",
          "data": {
            "text/plain": [
              "<seaborn.axisgrid.FacetGrid at 0x79a8084583a0>"
            ]
          },
          "metadata": {},
          "execution_count": 73
        },
        {
          "output_type": "display_data",
          "data": {
            "text/plain": [
              "<Figure size 500x500 with 1 Axes>"
            ],
            "image/png": "[encoded data removed]"
          },
          "metadata": {}
        }
      ]
    },
    {
      "cell_type": "code",
      "source": [
        "# check skewness and kurtosis\n",
        "print(\"Skewness: %f\" % train['SalePrice'].skew())\n",
        "print(\"Kurtosis: %f\" % train['SalePrice'].kurt())"
      ],
      "metadata": {
        "colab": {
          "base_uri": "https://localhost:8080/"
        },
        "id": "Nnkwud3UJ6Wi",
        "outputId": "0d339268-92ec-4907-914b-8b05b405a018"
      },
      "execution_count": 74,
      "outputs": [
        {
          "output_type": "stream",
          "name": "stdout",
          "text": [
            "Skewness: 1.882876\n",
            "Kurtosis: 6.536282\n"
          ]
        }
      ]
    },
    {
      "cell_type": "markdown",
      "source": [
        "It is also important to look for outliers that could impact the dataset. In the histogram above, the data is skewed to the right, meaning that there is higher extremes for housing cost."
      ],
      "metadata": {
        "id": "Ndz9BSNOgpwv"
      }
    },
    {
      "cell_type": "code",
      "source": [
        "# check for outliers in the data using IQR\n",
        "train_sp = train['SalePrice']\n",
        "Q1 = train_sp.quantile(0.25)\n",
        "Q3 = train_sp.quantile(0.75)\n",
        "IQR = Q3-Q1\n",
        "\n",
        "threshold = 1.5\n",
        "\n",
        "outliers_mask = ((train_sp < (Q1 - threshold * IQR)) | (train_sp > (Q3 + threshold * IQR)))\n",
        "\n",
        "outliers_indices = train_sp[outliers_mask].index\n",
        "\n",
        "print(\"Indices of outliers:\", outliers_indices)"
      ],
      "metadata": {
        "colab": {
          "base_uri": "https://localhost:8080/"
        },
        "id": "0mjrCsr_cDzt",
        "outputId": "e59b1c69-e0fd-4c2a-ac96-8498328a764d"
      },
      "execution_count": 75,
      "outputs": [
        {
          "output_type": "stream",
          "name": "stdout",
          "text": [
            "Indices of outliers: Int64Index([  11,   53,   58,  112,  151,  161,  178,  185,  224,  231,  278,\n",
            "             309,  313,  320,  321,  336,  349,  378,  389,  440,  473,  477,\n",
            "             481,  496,  515,  527,  585,  591,  608,  642,  644,  654,  661,\n",
            "             664,  678,  688,  691,  702,  718,  769,  774,  798,  803,  825,\n",
            "             877,  898,  987,  990, 1046, 1142, 1169, 1181, 1182, 1228, 1243,\n",
            "            1267, 1268, 1353, 1373, 1388, 1437],\n",
            "           dtype='int64')\n"
          ]
        }
      ]
    },
    {
      "cell_type": "code",
      "source": [
        "# check the index and value of outliers in training data set\n",
        "outliers = train_sp.iloc[outliers_indices]\n",
        "outliers"
      ],
      "metadata": {
        "colab": {
          "base_uri": "https://localhost:8080/"
        },
        "id": "lY_bpMdPd4W6",
        "outputId": "9288e5bd-7012-4c04-a96b-d77de9c1f353"
      },
      "execution_count": 76,
      "outputs": [
        {
          "output_type": "execute_result",
          "data": {
            "text/plain": [
              "11      345000\n",
              "53      385000\n",
              "58      438780\n",
              "112     383970\n",
              "151     372402\n",
              "         ...  \n",
              "1268    381000\n",
              "1353    410000\n",
              "1373    466500\n",
              "1388    377500\n",
              "1437    394617\n",
              "Name: SalePrice, Length: 61, dtype: int64"
            ]
          },
          "metadata": {},
          "execution_count": 76
        }
      ]
    },
    {
      "cell_type": "markdown",
      "source": [
        "We can see that outliers indicated can be explained by the skewness of the data as these outliers tend to be housing prices on the higher end of the dataset. There are 61 outliers. As of now, there is no need to remove the outliers within the dataset."
      ],
      "metadata": {
        "id": "lRD0xiZke7Se"
      }
    },
    {
      "cell_type": "markdown",
      "source": [
        "However, we can normalize this data."
      ],
      "metadata": {
        "id": "Z--5DGkUhZj0"
      }
    },
    {
      "cell_type": "code",
      "source": [
        "# log transform training dataset to normalize data\n",
        "train_log = train\n",
        "train_log['SalePrice'] = np.log(train_log['SalePrice'])\n",
        "\n",
        "sns.distplot(train_log['SalePrice'])\n",
        "plt.show()"
      ],
      "metadata": {
        "colab": {
          "base_uri": "https://localhost:8080/",
          "height": 649
        },
        "id": "qNCF3sf-hZAr",
        "outputId": "d4da7366-a6bf-4665-e417-4bd6a70ff5d5"
      },
      "execution_count": 77,
      "outputs": [
        {
          "output_type": "stream",
          "name": "stderr",
          "text": [
            "<ipython-input-77-1254a2e3c992>:5: UserWarning: \n",
            "\n",
            "`distplot` is a deprecated function and will be removed in seaborn v0.14.0.\n",
            "\n",
            "Please adapt your code to use either `displot` (a figure-level function with\n",
            "similar flexibility) or `histplot` (an axes-level function for histograms).\n",
            "\n",
            "For a guide to updating your code to use the new functions, please see\n",
            "https://gist.github.com/mwaskom/de44147ed2974457ad6372750bbe5751\n",
            "\n",
            "  sns.distplot(train_log['SalePrice'])\n"
          ]
        },
        {
          "output_type": "display_data",
          "data": {
            "text/plain": [
              "<Figure size 640x480 with 1 Axes>"
            ],
            "image/png": "[encoded data removed]"
          },
          "metadata": {}
        }
      ]
    },
    {
      "cell_type": "code",
      "source": [
        "# correlation map of all variables in the training dataset\n",
        "corrmap = train.corr()\n",
        "plt.subplots(figsize=(20, 20))\n",
        "axis_corr = sns.heatmap(corrmap, vmin = -1, vmax = 1 , center = 0, cmap=sns.diverging_palette(50, 500, n=500), square = True)\n",
        "plt.show()"
      ],
      "metadata": {
        "colab": {
          "base_uri": "https://localhost:8080/",
          "height": 1000
        },
        "id": "BYEZ4xh-D_Dn",
        "outputId": "ff6b139b-456b-4d61-e65f-cd2b0d240310"
      },
      "execution_count": 78,
      "outputs": [
        {
          "output_type": "display_data",
          "data": {
            "text/plain": [
              "<Figure size 2000x2000 with 2 Axes>"
            ],
            "image/png": "[encoded data removed]"
          },
          "metadata": {}
        }
      ]
    },
    {
      "cell_type": "markdown",
      "source": [
        "We can see that SalePrice has a positive correlation with OverallQual, YearBuilt, YearRemodAdd, BsmtQual, etc. To look into which features are important, we can take the absolute values of all the correlation in respect to SalePrice and order them from highest to lowest."
      ],
      "metadata": {
        "id": "XWUxwRSWFlc9"
      }
    },
    {
      "cell_type": "code",
      "source": [
        "# retrieve the top 15 variables with highest correlation\n",
        "salescorr = train.corr()['SalePrice']\n",
        "absalescorr = abs(salescorr)\n",
        "sort_salescorr = absalescorr.sort_values(ascending = False)\n",
        "top15 = sort_salescorr.head(16)\n",
        "print(top15)"
      ],
      "metadata": {
        "colab": {
          "base_uri": "https://localhost:8080/"
        },
        "id": "hwbye7OUI_ZS",
        "outputId": "113f8abb-35a5-4076-a8d5-127acbccedfd"
      },
      "execution_count": 79,
      "outputs": [
        {
          "output_type": "stream",
          "name": "stdout",
          "text": [
            "SalePrice       1.000000\n",
            "OverallQual     0.817184\n",
            "GrLivArea       0.700927\n",
            "GarageCars      0.680625\n",
            "GarageArea      0.650888\n",
            "TotalBsmtSF     0.612134\n",
            "GarageFinish    0.604878\n",
            "1stFlrSF        0.596981\n",
            "FullBath        0.594771\n",
            "BsmtQual        0.591290\n",
            "YearBuilt       0.586570\n",
            "ExterQual       0.582163\n",
            "YearRemodAdd    0.565608\n",
            "TotRmsAbvGrd    0.534422\n",
            "KitchenQual     0.534386\n",
            "GarageType      0.503130\n",
            "Name: SalePrice, dtype: float64\n"
          ]
        }
      ]
    },
    {
      "cell_type": "markdown",
      "source": [
        "Of the correlation values listed above, only a few variables show that there is a strong correlation between them and SalePrice. Let's take the top 15 varaibles with the highest correlation to be the most important features."
      ],
      "metadata": {
        "id": "-BUPxei6gNQd"
      }
    },
    {
      "cell_type": "code",
      "source": [
        "# put the top 15 variables into a list\n",
        "topfeat = top15.index.tolist()\n",
        "print(topfeat)"
      ],
      "metadata": {
        "colab": {
          "base_uri": "https://localhost:8080/"
        },
        "id": "w-M0RMmRVkcM",
        "outputId": "0bee7b3c-a8bb-46e4-9ad0-9e9e7cef9aa4"
      },
      "execution_count": 80,
      "outputs": [
        {
          "output_type": "stream",
          "name": "stdout",
          "text": [
            "['SalePrice', 'OverallQual', 'GrLivArea', 'GarageCars', 'GarageArea', 'TotalBsmtSF', 'GarageFinish', '1stFlrSF', 'FullBath', 'BsmtQual', 'YearBuilt', 'ExterQual', 'YearRemodAdd', 'TotRmsAbvGrd', 'KitchenQual', 'GarageType']\n"
          ]
        }
      ]
    },
    {
      "cell_type": "code",
      "source": [
        "# isolate the variables needed from the training dataset\n",
        "train_top15 = train[topfeat]\n",
        "train_top15"
      ],
      "metadata": {
        "colab": {
          "base_uri": "https://localhost:8080/",
          "height": 443
        },
        "id": "HBHpbH5RbTAR",
        "outputId": "a05b8e73-2dd0-4b75-b55c-8686ae5c65ea"
      },
      "execution_count": 81,
      "outputs": [
        {
          "output_type": "execute_result",
          "data": {
            "text/plain": [
              "      SalePrice  OverallQual  GrLivArea  GarageCars  GarageArea  TotalBsmtSF  \\\n",
              "0     12.247694            7       1710           2         548          856   \n",
              "1     12.109011            6       1262           2         460         1262   \n",
              "2     12.317167            7       1786           2         608          920   \n",
              "3     11.849398            7       1717           3         642          756   \n",
              "4     12.429216            8       2198           3         836         1145   \n",
              "...         ...          ...        ...         ...         ...          ...   \n",
              "1455  12.072541            6       1647           2         460          953   \n",
              "1456  12.254863            6       2073           2         500         1542   \n",
              "1457  12.493130            7       2340           1         252         1152   \n",
              "1458  11.864462            5       1078           1         240         1078   \n",
              "1459  11.901583            5       1256           1         276         1256   \n",
              "\n",
              "      GarageFinish  1stFlrSF  FullBath  BsmtQual  YearBuilt  ExterQual  \\\n",
              "0                1       856         2         2       2003          2   \n",
              "1                1      1262         2         2       1976          3   \n",
              "2                1       920         2         2       2001          2   \n",
              "3                2       961         1         3       1915          3   \n",
              "4                1      1145         2         2       2000          2   \n",
              "...            ...       ...       ...       ...        ...        ...   \n",
              "1455             1       953         2         2       1999          3   \n",
              "1456             2      2073         2         2       1978          3   \n",
              "1457             1      1188         2         3       1941          0   \n",
              "1458             2      1078         1         3       1950          3   \n",
              "1459             0      1256         1         3       1965          2   \n",
              "\n",
              "      YearRemodAdd  TotRmsAbvGrd  KitchenQual  GarageType  \n",
              "0             2003             8            2           1  \n",
              "1             1976             6            3           1  \n",
              "2             2002             6            2           1  \n",
              "3             1970             7            2           5  \n",
              "4             2000             9            2           1  \n",
              "...            ...           ...          ...         ...  \n",
              "1455          2000             7            3           1  \n",
              "1456          1988             7            3           1  \n",
              "1457          2006             9            2           1  \n",
              "1458          1996             5            2           1  \n",
              "1459          1965             6            3           1  \n",
              "\n",
              "[1460 rows x 16 columns]"
            ],
            "text/html": [
              "\n",
              "  <div id=\"df-b4f7f3fa-2d5a-4ac4-8732-c981237ecb4f\" class=\"colab-df-container\">\n",
              "    <div>\n",
              "<style scoped>\n",
              "    .dataframe tbody tr th:only-of-type {\n",
              "        vertical-align: middle;\n",
              "    }\n",
              "\n",
              "    .dataframe tbody tr th {\n",
              "        vertical-align: top;\n",
              "    }\n",
              "\n",
              "    .dataframe thead th {\n",
              "        text-align: right;\n",
              "    }\n",
              "</style>\n",
              "<table border=\"1\" class=\"dataframe\">\n",
              "  <thead>\n",
              "    <tr style=\"text-align: right;\">\n",
              "      <th></th>\n",
              "      <th>SalePrice</th>\n",
              "      <th>OverallQual</th>\n",
              "      <th>GrLivArea</th>\n",
              "      <th>GarageCars</th>\n",
              "      <th>GarageArea</th>\n",
              "      <th>TotalBsmtSF</th>\n",
              "      <th>GarageFinish</th>\n",
              "      <th>1stFlrSF</th>\n",
              "      <th>FullBath</th>\n",
              "      <th>BsmtQual</th>\n",
              "      <th>YearBuilt</th>\n",
              "      <th>ExterQual</th>\n",
              "      <th>YearRemodAdd</th>\n",
              "      <th>TotRmsAbvGrd</th>\n",
              "      <th>KitchenQual</th>\n",
              "      <th>GarageType</th>\n",
              "    </tr>\n",
              "  </thead>\n",
              "  <tbody>\n",
              "    <tr>\n",
              "      <th>0</th>\n",
              "      <td>12.247694</td>\n",
              "      <td>7</td>\n",
              "      <td>1710</td>\n",
              "      <td>2</td>\n",
              "      <td>548</td>\n",
              "      <td>856</td>\n",
              "      <td>1</td>\n",
              "      <td>856</td>\n",
              "      <td>2</td>\n",
              "      <td>2</td>\n",
              "      <td>2003</td>\n",
              "      <td>2</td>\n",
              "      <td>2003</td>\n",
              "      <td>8</td>\n",
              "      <td>2</td>\n",
              "      <td>1</td>\n",
              "    </tr>\n",
              "    <tr>\n",
              "      <th>1</th>\n",
              "      <td>12.109011</td>\n",
              "      <td>6</td>\n",
              "      <td>1262</td>\n",
              "      <td>2</td>\n",
              "      <td>460</td>\n",
              "      <td>1262</td>\n",
              "      <td>1</td>\n",
              "      <td>1262</td>\n",
              "      <td>2</td>\n",
              "      <td>2</td>\n",
              "      <td>1976</td>\n",
              "      <td>3</td>\n",
              "      <td>1976</td>\n",
              "      <td>6</td>\n",
              "      <td>3</td>\n",
              "      <td>1</td>\n",
              "    </tr>\n",
              "    <tr>\n",
              "      <th>2</th>\n",
              "      <td>12.317167</td>\n",
              "      <td>7</td>\n",
              "      <td>1786</td>\n",
              "      <td>2</td>\n",
              "      <td>608</td>\n",
              "      <td>920</td>\n",
              "      <td>1</td>\n",
              "      <td>920</td>\n",
              "      <td>2</td>\n",
              "      <td>2</td>\n",
              "      <td>2001</td>\n",
              "      <td>2</td>\n",
              "      <td>2002</td>\n",
              "      <td>6</td>\n",
              "      <td>2</td>\n",
              "      <td>1</td>\n",
              "    </tr>\n",
              "    <tr>\n",
              "      <th>3</th>\n",
              "      <td>11.849398</td>\n",
              "      <td>7</td>\n",
              "      <td>1717</td>\n",
              "      <td>3</td>\n",
              "      <td>642</td>\n",
              "      <td>756</td>\n",
              "      <td>2</td>\n",
              "      <td>961</td>\n",
              "      <td>1</td>\n",
              "      <td>3</td>\n",
              "      <td>1915</td>\n",
              "      <td>3</td>\n",
              "      <td>1970</td>\n",
              "      <td>7</td>\n",
              "      <td>2</td>\n",
              "      <td>5</td>\n",
              "    </tr>\n",
              "    <tr>\n",
              "      <th>4</th>\n",
              "      <td>12.429216</td>\n",
              "      <td>8</td>\n",
              "      <td>2198</td>\n",
              "      <td>3</td>\n",
              "      <td>836</td>\n",
              "      <td>1145</td>\n",
              "      <td>1</td>\n",
              "      <td>1145</td>\n",
              "      <td>2</td>\n",
              "      <td>2</td>\n",
              "      <td>2000</td>\n",
              "      <td>2</td>\n",
              "      <td>2000</td>\n",
              "      <td>9</td>\n",
              "      <td>2</td>\n",
              "      <td>1</td>\n",
              "    </tr>\n",
              "    <tr>\n",
              "      <th>...</th>\n",
              "      <td>...</td>\n",
              "      <td>...</td>\n",
              "      <td>...</td>\n",
              "      <td>...</td>\n",
              "      <td>...</td>\n",
              "      <td>...</td>\n",
              "      <td>...</td>\n",
              "      <td>...</td>\n",
              "      <td>...</td>\n",
              "      <td>...</td>\n",
              "      <td>...</td>\n",
              "      <td>...</td>\n",
              "      <td>...</td>\n",
              "      <td>...</td>\n",
              "      <td>...</td>\n",
              "      <td>...</td>\n",
              "    </tr>\n",
              "    <tr>\n",
              "      <th>1455</th>\n",
              "      <td>12.072541</td>\n",
              "      <td>6</td>\n",
              "      <td>1647</td>\n",
              "      <td>2</td>\n",
              "      <td>460</td>\n",
              "      <td>953</td>\n",
              "      <td>1</td>\n",
              "      <td>953</td>\n",
              "      <td>2</td>\n",
              "      <td>2</td>\n",
              "      <td>1999</td>\n",
              "      <td>3</td>\n",
              "      <td>2000</td>\n",
              "      <td>7</td>\n",
              "      <td>3</td>\n",
              "      <td>1</td>\n",
              "    </tr>\n",
              "    <tr>\n",
              "      <th>1456</th>\n",
              "      <td>12.254863</td>\n",
              "      <td>6</td>\n",
              "      <td>2073</td>\n",
              "      <td>2</td>\n",
              "      <td>500</td>\n",
              "      <td>1542</td>\n",
              "      <td>2</td>\n",
              "      <td>2073</td>\n",
              "      <td>2</td>\n",
              "      <td>2</td>\n",
              "      <td>1978</td>\n",
              "      <td>3</td>\n",
              "      <td>1988</td>\n",
              "      <td>7</td>\n",
              "      <td>3</td>\n",
              "      <td>1</td>\n",
              "    </tr>\n",
              "    <tr>\n",
              "      <th>1457</th>\n",
              "      <td>12.493130</td>\n",
              "      <td>7</td>\n",
              "      <td>2340</td>\n",
              "      <td>1</td>\n",
              "      <td>252</td>\n",
              "      <td>1152</td>\n",
              "      <td>1</td>\n",
              "      <td>1188</td>\n",
              "      <td>2</td>\n",
              "      <td>3</td>\n",
              "      <td>1941</td>\n",
              "      <td>0</td>\n",
              "      <td>2006</td>\n",
              "      <td>9</td>\n",
              "      <td>2</td>\n",
              "      <td>1</td>\n",
              "    </tr>\n",
              "    <tr>\n",
              "      <th>1458</th>\n",
              "      <td>11.864462</td>\n",
              "      <td>5</td>\n",
              "      <td>1078</td>\n",
              "      <td>1</td>\n",
              "      <td>240</td>\n",
              "      <td>1078</td>\n",
              "      <td>2</td>\n",
              "      <td>1078</td>\n",
              "      <td>1</td>\n",
              "      <td>3</td>\n",
              "      <td>1950</td>\n",
              "      <td>3</td>\n",
              "      <td>1996</td>\n",
              "      <td>5</td>\n",
              "      <td>2</td>\n",
              "      <td>1</td>\n",
              "    </tr>\n",
              "    <tr>\n",
              "      <th>1459</th>\n",
              "      <td>11.901583</td>\n",
              "      <td>5</td>\n",
              "      <td>1256</td>\n",
              "      <td>1</td>\n",
              "      <td>276</td>\n",
              "      <td>1256</td>\n",
              "      <td>0</td>\n",
              "      <td>1256</td>\n",
              "      <td>1</td>\n",
              "      <td>3</td>\n",
              "      <td>1965</td>\n",
              "      <td>2</td>\n",
              "      <td>1965</td>\n",
              "      <td>6</td>\n",
              "      <td>3</td>\n",
              "      <td>1</td>\n",
              "    </tr>\n",
              "  </tbody>\n",
              "</table>\n",
              "<p>1460 rows × 16 columns</p>\n",
              "</div>\n",
              "    <div class=\"colab-df-buttons\">\n",
              "\n",
              "  <div class=\"colab-df-container\">\n",
              "    <button class=\"colab-df-convert\" onclick=\"convertToInteractive('df-b4f7f3fa-2d5a-4ac4-8732-c981237ecb4f')\"\n",
              "            title=\"Convert this dataframe to an interactive table.\"\n",
              "            style=\"display:none;\">\n",
              "\n",
              "  <svg xmlns=\"http://www.w3.org/2000/svg\" height=\"24px\" viewBox=\"0 -960 960 960\">\n",
              "    <path d=\"M120-120v-720h720v720H120Zm60-500h600v-160H180v160Zm220 220h160v-160H400v160Zm0 220h160v-160H400v160ZM180-400h160v-160H180v160Zm440 0h160v-160H620v160ZM180-180h160v-160H180v160Zm440 0h160v-160H620v160Z\"/>\n",
              "  </svg>\n",
              "    </button>\n",
              "\n",
              "  <style>\n",
              "    .colab-df-container {\n",
              "      display:flex;\n",
              "      gap: 12px;\n",
              "    }\n",
              "\n",
              "    .colab-df-convert {\n",
              "      background-color: #E8F0FE;\n",
              "      border: none;\n",
              "      border-radius: 50%;\n",
              "      cursor: pointer;\n",
              "      display: none;\n",
              "      fill: #1967D2;\n",
              "      height: 32px;\n",
              "      padding: 0 0 0 0;\n",
              "      width: 32px;\n",
              "    }\n",
              "\n",
              "    .colab-df-convert:hover {\n",
              "      background-color: #E2EBFA;\n",
              "      box-shadow: 0px 1px 2px rgba(60, 64, 67, 0.3), 0px 1px 3px 1px rgba(60, 64, 67, 0.15);\n",
              "      fill: #174EA6;\n",
              "    }\n",
              "\n",
              "    .colab-df-buttons div {\n",
              "      margin-bottom: 4px;\n",
              "    }\n",
              "\n",
              "    [theme=dark] .colab-df-convert {\n",
              "      background-color: #3B4455;\n",
              "      fill: #D2E3FC;\n",
              "    }\n",
              "\n",
              "    [theme=dark] .colab-df-convert:hover {\n",
              "      background-color: #434B5C;\n",
              "      box-shadow: 0px 1px 3px 1px rgba(0, 0, 0, 0.15);\n",
              "      filter: drop-shadow(0px 1px 2px rgba(0, 0, 0, 0.3));\n",
              "      fill: #FFFFFF;\n",
              "    }\n",
              "  </style>\n",
              "\n",
              "    <script>\n",
              "      const buttonEl =\n",
              "        document.querySelector('#df-b4f7f3fa-2d5a-4ac4-8732-c981237ecb4f button.colab-df-convert');\n",
              "      buttonEl.style.display =\n",
              "        google.colab.kernel.accessAllowed ? 'block' : 'none';\n",
              "\n",
              "      async function convertToInteractive(key) {\n",
              "        const element = document.querySelector('#df-b4f7f3fa-2d5a-4ac4-8732-c981237ecb4f');\n",
              "        const dataTable =\n",
              "          await google.colab.kernel.invokeFunction('convertToInteractive',\n",
              "                                                    [key], {});\n",
              "        if (!dataTable) return;\n",
              "\n",
              "        const docLinkHtml = 'Like what you see? Visit the ' +\n",
              "          '<a target=\"_blank\" href=https://colab.research.google.com/notebooks/data_table.ipynb>data table notebook</a>'\n",
              "          + ' to learn more about interactive tables.';\n",
              "        element.innerHTML = '';\n",
              "        dataTable['output_type'] = 'display_data';\n",
              "        await google.colab.output.renderOutput(dataTable, element);\n",
              "        const docLink = document.createElement('div');\n",
              "        docLink.innerHTML = docLinkHtml;\n",
              "        element.appendChild(docLink);\n",
              "      }\n",
              "    </script>\n",
              "  </div>\n",
              "\n",
              "\n",
              "<div id=\"df-019929d5-4d18-44c7-8298-7382d7d5b515\">\n",
              "  <button class=\"colab-df-quickchart\" onclick=\"quickchart('df-019929d5-4d18-44c7-8298-7382d7d5b515')\"\n",
              "            title=\"Suggest charts\"\n",
              "            style=\"display:none;\">\n",
              "\n",
              "<svg xmlns=\"http://www.w3.org/2000/svg\" height=\"24px\"viewBox=\"0 0 24 24\"\n",
              "     width=\"24px\">\n",
              "    <g>\n",
              "        <path d=\"M19 3H5c-1.1 0-2 .9-2 2v14c0 1.1.9 2 2 2h14c1.1 0 2-.9 2-2V5c0-1.1-.9-2-2-2zM9 17H7v-7h2v7zm4 0h-2V7h2v10zm4 0h-2v-4h2v4z\"/>\n",
              "    </g>\n",
              "</svg>\n",
              "  </button>\n",
              "\n",
              "<style>\n",
              "  .colab-df-quickchart {\n",
              "      --bg-color: #E8F0FE;\n",
              "      --fill-color: #1967D2;\n",
              "      --hover-bg-color: #E2EBFA;\n",
              "      --hover-fill-color: #174EA6;\n",
              "      --disabled-fill-color: #AAA;\n",
              "      --disabled-bg-color: #DDD;\n",
              "  }\n",
              "\n",
              "  [theme=dark] .colab-df-quickchart {\n",
              "      --bg-color: #3B4455;\n",
              "      --fill-color: #D2E3FC;\n",
              "      --hover-bg-color: #434B5C;\n",
              "      --hover-fill-color: #FFFFFF;\n",
              "      --disabled-bg-color: #3B4455;\n",
              "      --disabled-fill-color: #666;\n",
              "  }\n",
              "\n",
              "  .colab-df-quickchart {\n",
              "    background-color: var(--bg-color);\n",
              "    border: none;\n",
              "    border-radius: 50%;\n",
              "    cursor: pointer;\n",
              "    display: none;\n",
              "    fill: var(--fill-color);\n",
              "    height: 32px;\n",
              "    padding: 0;\n",
              "    width: 32px;\n",
              "  }\n",
              "\n",
              "  .colab-df-quickchart:hover {\n",
              "    background-color: var(--hover-bg-color);\n",
              "    box-shadow: 0 1px 2px rgba(60, 64, 67, 0.3), 0 1px 3px 1px rgba(60, 64, 67, 0.15);\n",
              "    fill: var(--button-hover-fill-color);\n",
              "  }\n",
              "\n",
              "  .colab-df-quickchart-complete:disabled,\n",
              "  .colab-df-quickchart-complete:disabled:hover {\n",
              "    background-color: var(--disabled-bg-color);\n",
              "    fill: var(--disabled-fill-color);\n",
              "    box-shadow: none;\n",
              "  }\n",
              "\n",
              "  .colab-df-spinner {\n",
              "    border: 2px solid var(--fill-color);\n",
              "    border-color: transparent;\n",
              "    border-bottom-color: var(--fill-color);\n",
              "    animation:\n",
              "      spin 1s steps(1) infinite;\n",
              "  }\n",
              "\n",
              "  @keyframes spin {\n",
              "    0% {\n",
              "      border-color: transparent;\n",
              "      border-bottom-color: var(--fill-color);\n",
              "      border-left-color: var(--fill-color);\n",
              "    }\n",
              "    20% {\n",
              "      border-color: transparent;\n",
              "      border-left-color: var(--fill-color);\n",
              "      border-top-color: var(--fill-color);\n",
              "    }\n",
              "    30% {\n",
              "      border-color: transparent;\n",
              "      border-left-color: var(--fill-color);\n",
              "      border-top-color: var(--fill-color);\n",
              "      border-right-color: var(--fill-color);\n",
              "    }\n",
              "    40% {\n",
              "      border-color: transparent;\n",
              "      border-right-color: var(--fill-color);\n",
              "      border-top-color: var(--fill-color);\n",
              "    }\n",
              "    60% {\n",
              "      border-color: transparent;\n",
              "      border-right-color: var(--fill-color);\n",
              "    }\n",
              "    80% {\n",
              "      border-color: transparent;\n",
              "      border-right-color: var(--fill-color);\n",
              "      border-bottom-color: var(--fill-color);\n",
              "    }\n",
              "    90% {\n",
              "      border-color: transparent;\n",
              "      border-bottom-color: var(--fill-color);\n",
              "    }\n",
              "  }\n",
              "</style>\n",
              "\n",
              "  <script>\n",
              "    async function quickchart(key) {\n",
              "      const quickchartButtonEl =\n",
              "        document.querySelector('#' + key + ' button');\n",
              "      quickchartButtonEl.disabled = true;  // To prevent multiple clicks.\n",
              "      quickchartButtonEl.classList.add('colab-df-spinner');\n",
              "      try {\n",
              "        const charts = await google.colab.kernel.invokeFunction(\n",
              "            'suggestCharts', [key], {});\n",
              "      } catch (error) {\n",
              "        console.error('Error during call to suggestCharts:', error);\n",
              "      }\n",
              "      quickchartButtonEl.classList.remove('colab-df-spinner');\n",
              "      quickchartButtonEl.classList.add('colab-df-quickchart-complete');\n",
              "    }\n",
              "    (() => {\n",
              "      let quickchartButtonEl =\n",
              "        document.querySelector('#df-019929d5-4d18-44c7-8298-7382d7d5b515 button');\n",
              "      quickchartButtonEl.style.display =\n",
              "        google.colab.kernel.accessAllowed ? 'block' : 'none';\n",
              "    })();\n",
              "  </script>\n",
              "</div>\n",
              "    </div>\n",
              "  </div>\n"
            ]
          },
          "metadata": {},
          "execution_count": 81
        }
      ]
    },
    {
      "cell_type": "markdown",
      "source": [
        "\n",
        "# Linear Regression Analysis\n"
      ],
      "metadata": {
        "id": "QPHAcXwy0dHO"
      }
    },
    {
      "cell_type": "code",
      "source": [
        "from sklearn.linear_model import LinearRegression"
      ],
      "metadata": {
        "id": "fMsiHZOzmTZB"
      },
      "execution_count": 82,
      "outputs": []
    },
    {
      "cell_type": "code",
      "source": [
        "#  isolate sales price from the training dataset by removing it\n",
        "del topfeat[0]"
      ],
      "metadata": {
        "id": "S1dL2gGYnOxd"
      },
      "execution_count": 83,
      "outputs": []
    },
    {
      "cell_type": "code",
      "source": [
        "print(topfeat)"
      ],
      "metadata": {
        "colab": {
          "base_uri": "https://localhost:8080/"
        },
        "id": "Hqh2_fgbv6bm",
        "outputId": "ee96e7b7-2d3d-4275-daad-48c6f900f7e1"
      },
      "execution_count": 84,
      "outputs": [
        {
          "output_type": "stream",
          "name": "stdout",
          "text": [
            "['OverallQual', 'GrLivArea', 'GarageCars', 'GarageArea', 'TotalBsmtSF', 'GarageFinish', '1stFlrSF', 'FullBath', 'BsmtQual', 'YearBuilt', 'ExterQual', 'YearRemodAdd', 'TotRmsAbvGrd', 'KitchenQual', 'GarageType']\n"
          ]
        }
      ]
    },
    {
      "cell_type": "code",
      "source": [
        "# sale price as a dependent variable\n",
        "y_train = train_log['SalePrice']\n",
        "\n",
        "# get the rest of the top 15 variables for the training and testing dataset\n",
        "x_train = train_log[topfeat]\n",
        "x_test = test[topfeat]"
      ],
      "metadata": {
        "id": "YDa4cq9pt2nf"
      },
      "execution_count": 85,
      "outputs": []
    },
    {
      "cell_type": "code",
      "source": [
        "# linear regression analysis model\n",
        "model = LinearRegression()\n",
        "model.fit(x_train, y_train)\n",
        "scaled_pred = model.predict(x_test)"
      ],
      "metadata": {
        "id": "dGFyLhNjw80Z"
      },
      "execution_count": 86,
      "outputs": []
    },
    {
      "cell_type": "code",
      "source": [
        "# undo the log transform to get the sale prices for the testing dataset\n",
        "pred = np.exp(scaled_pred)\n",
        "print(pred)"
      ],
      "metadata": {
        "colab": {
          "base_uri": "https://localhost:8080/"
        },
        "id": "W_rDpGdkxJTR",
        "outputId": "91ee99bf-2604-4631-d6db-c0bbf02a780a"
      },
      "execution_count": 87,
      "outputs": [
        {
          "output_type": "stream",
          "name": "stdout",
          "text": [
            "[117047.27795277 147261.66123931 169544.73441367 ... 140233.32526324\n",
            " 110809.98420009 237967.30703494]\n"
          ]
        }
      ]
    },
    {
      "cell_type": "code",
      "source": [
        "# exporting the testing dataset id and sales prices for submission\n",
        "test1 = test\n",
        "test1['SalePrice'] = pred\n",
        "df = test1[['Id', 'SalePrice']]\n",
        "df.to_csv('output_log.csv', index=False)\n",
        "test = test.drop(['SalePrice'], axis = 1)"
      ],
      "metadata": {
        "id": "9urYLJtOzxf7"
      },
      "execution_count": 88,
      "outputs": []
    },
    {
      "cell_type": "markdown",
      "source": [
        "Score of 0.16567 on Kaggle (closer to 0 is better)"
      ],
      "metadata": {
        "id": "4UrMEhEU5v1K"
      }
    },
    {
      "cell_type": "markdown",
      "source": [
        "# Polynomial Regression"
      ],
      "metadata": {
        "id": "lBXPtsdJ6Mvd"
      }
    },
    {
      "cell_type": "code",
      "source": [
        "from sklearn.preprocessing import PolynomialFeatures"
      ],
      "metadata": {
        "id": "abSDsPYA6vPe"
      },
      "execution_count": 89,
      "outputs": []
    },
    {
      "cell_type": "code",
      "source": [
        "# refreshing the variables again\n",
        "y_train = train_log['SalePrice']\n",
        "x_train = train_log[topfeat]\n",
        "x_test = test[topfeat]\n",
        "\n",
        "# setting up the polynomial regression model\n",
        "poly_reg = PolynomialFeatures(degree=2)\n",
        "\n",
        "# transforming the dataset needed\n",
        "poly_x_train = poly_reg.fit_transform(x_train)\n",
        "poly_x_test = poly_reg.transform(x_test)\n",
        "\n",
        "# running the polynomial regression model\n",
        "model = LinearRegression()\n",
        "model.fit(poly_x_train, y_train)\n",
        "\n",
        "# print out the predicted values\n",
        "y_pred = model.predict(poly_x_test)"
      ],
      "metadata": {
        "id": "6TewmMjG6YLg"
      },
      "execution_count": 90,
      "outputs": []
    },
    {
      "cell_type": "code",
      "source": [
        "# undo log transform to get sales prices for testing dataset\n",
        "pred = np.exp(y_pred)"
      ],
      "metadata": {
        "id": "oqBtRpDt7uHC"
      },
      "execution_count": 91,
      "outputs": []
    },
    {
      "cell_type": "code",
      "source": [
        "# exporting testing dataset id and sales prices for submission\n",
        "test2 = test\n",
        "test2['SalePrice'] = pred\n",
        "df = test2[['Id', 'SalePrice']]\n",
        "df.to_csv('output_poly.csv', index=False)\n",
        "test = test.drop(['SalePrice'], axis = 1)"
      ],
      "metadata": {
        "id": "sNPeEj0y8FtG"
      },
      "execution_count": 92,
      "outputs": []
    },
    {
      "cell_type": "markdown",
      "source": [
        "Score of 0.15201 on Kaggle which is an improvement from Linear Regression."
      ],
      "metadata": {
        "id": "F9crId3r8gYt"
      }
    },
    {
      "cell_type": "markdown",
      "source": [
        "# Neural Network"
      ],
      "metadata": {
        "id": "uFZ9dMxG9EqY"
      }
    },
    {
      "cell_type": "code",
      "source": [
        "# just refreshing the variables\n",
        "y_train = train_log['SalePrice']\n",
        "x_train = train_log[topfeat]\n",
        "x_test = test[topfeat]"
      ],
      "metadata": {
        "id": "L-ZoE-dn9EYp"
      },
      "execution_count": 93,
      "outputs": []
    },
    {
      "cell_type": "code",
      "source": [
        "# import torch for neural network\n",
        "import torch\n",
        "import torch.nn as nn\n",
        "import torch.optim as optim"
      ],
      "metadata": {
        "id": "LNbF7ppyueG8"
      },
      "execution_count": 94,
      "outputs": []
    },
    {
      "cell_type": "code",
      "source": [
        "# convert dataset into tensors\n",
        "# had to transform to float due to issues with variable types\n",
        "y_train = torch.from_numpy(np.array(y_train)).type(torch.float)\n",
        "x_train = torch.from_numpy(np.array(x_train)).type(torch.float)\n",
        "x_test = torch.from_numpy(np.array(x_test)).type(torch.float)"
      ],
      "metadata": {
        "id": "azefEmVdvwjq"
      },
      "execution_count": 95,
      "outputs": []
    },
    {
      "cell_type": "code",
      "source": [
        "device = torch.device('cuda' if torch.cuda.is_available() else 'cpu')\n",
        "print(device)"
      ],
      "metadata": {
        "colab": {
          "base_uri": "https://localhost:8080/"
        },
        "id": "w0V5cQlEVHMI",
        "outputId": "d333bf87-a4b9-4317-83b0-bf5b3ec79c9a"
      },
      "execution_count": 96,
      "outputs": [
        {
          "output_type": "stream",
          "name": "stdout",
          "text": [
            "cpu\n"
          ]
        }
      ]
    },
    {
      "cell_type": "code",
      "source": [
        "# neural network hyper parameters\n",
        "input_size = 15 #features\n",
        "hidden_size = 100 #hidden layer\n",
        "dim_out = 1 # output\n",
        "learning_rate = 0.0001 #learning rate\n",
        "\n",
        "# neural network model\n",
        "class FeatureNN(nn.Module):\n",
        "  def __init__(self, input_size, hidden_size, dim_out):\n",
        "    super().__init__()\n",
        "    self.layer1 = nn.Linear(input_size, hidden_size)\n",
        "    self.relu = nn.ReLU()\n",
        "    self.layer2 = nn.Linear(hidden_size, hidden_size)\n",
        "    self.relu2 = nn.ReLU()\n",
        "    self.layer3 = nn.Linear(hidden_size,dim_out)\n",
        "\n",
        "  def forward(self, x):\n",
        "    out = self.layer1(x)\n",
        "    out = self.relu(out)\n",
        "    out = self.layer2(out)\n",
        "    out = self.relu(out)\n",
        "    out = self.layer3(out)\n",
        "    return out\n",
        "\n",
        "model = FeatureNN(input_size, hidden_size, dim_out)\n",
        "criterion = nn.MSELoss() # also tested L1 Loss\n",
        "opt = optim.Adam(model.parameters(), lr=learning_rate)"
      ],
      "metadata": {
        "id": "uRSDva17sffF"
      },
      "execution_count": 97,
      "outputs": []
    },
    {
      "cell_type": "code",
      "source": [
        "epochs = 1000"
      ],
      "metadata": {
        "id": "xjkBGuu7vMZ-"
      },
      "execution_count": 98,
      "outputs": []
    },
    {
      "cell_type": "code",
      "source": [
        "# training the model\n",
        "for epoch in range(epochs):\n",
        "  #Forward pass\n",
        "  outputs = model(x_train)\n",
        "  loss = criterion(outputs, y_train)\n",
        "\n",
        "  # Backward and optimize\n",
        "  opt.zero_grad()\n",
        "  loss.backward()\n",
        "  opt.step()\n",
        "\n",
        "  if (epoch + 1) % 100 == 0:\n",
        "    print(f'Epoch [{epoch+1}/{epochs}], Loss: {loss.item():.4f}')"
      ],
      "metadata": {
        "colab": {
          "base_uri": "https://localhost:8080/"
        },
        "id": "H4cTHxnuvQFg",
        "outputId": "ac7fc6a6-1741-4c44-d260-9d851400d25d"
      },
      "execution_count": 99,
      "outputs": [
        {
          "output_type": "stream",
          "name": "stderr",
          "text": [
            "/usr/local/lib/python3.10/dist-packages/torch/nn/modules/loss.py:535: UserWarning: Using a target size (torch.Size([1460])) that is different to the input size (torch.Size([1460, 1])). This will likely lead to incorrect results due to broadcasting. Please ensure they have the same size.\n",
            "  return F.mse_loss(input, target, reduction=self.reduction)\n"
          ]
        },
        {
          "output_type": "stream",
          "name": "stdout",
          "text": [
            "Epoch [100/1000], Loss: 3.8475\n",
            "Epoch [200/1000], Loss: 1.9849\n",
            "Epoch [300/1000], Loss: 1.3638\n",
            "Epoch [400/1000], Loss: 1.0011\n",
            "Epoch [500/1000], Loss: 0.7917\n",
            "Epoch [600/1000], Loss: 0.6488\n",
            "Epoch [700/1000], Loss: 0.5474\n",
            "Epoch [800/1000], Loss: 0.4755\n",
            "Epoch [900/1000], Loss: 0.4313\n",
            "Epoch [1000/1000], Loss: 0.3966\n"
          ]
        }
      ]
    },
    {
      "cell_type": "code",
      "source": [
        "# model evaluation to get sales prices\n",
        "model.eval()\n",
        "with torch.no_grad():\n",
        "    y_pred_tensor = model(x_test)\n",
        "\n",
        "# Convert predictions back to NumPy\n",
        "y_pred = y_pred_tensor.numpy()\n",
        "\n",
        "# undo log transform to get sales prices\n",
        "pred = np.exp(y_pred)"
      ],
      "metadata": {
        "id": "mcVpFycxywnJ"
      },
      "execution_count": 100,
      "outputs": []
    },
    {
      "cell_type": "code",
      "source": [
        "print(pred)"
      ],
      "metadata": {
        "colab": {
          "base_uri": "https://localhost:8080/"
        },
        "id": "VUA98tjAzPBm",
        "outputId": "4fc5905a-2824-46e1-8329-5dec443f7269"
      },
      "execution_count": 101,
      "outputs": [
        {
          "output_type": "stream",
          "name": "stdout",
          "text": [
            "[[202286.19]\n",
            " [304738.3 ]\n",
            " [165830.2 ]\n",
            " ...\n",
            " [102061.21]\n",
            " [191835.66]\n",
            " [146192.6 ]]\n"
          ]
        }
      ]
    },
    {
      "cell_type": "code",
      "source": [
        "# exporting testing dataset id and sales prices for submission\n",
        "test3 = test\n",
        "test3['SalePrice'] = pred\n",
        "df = test3[['Id', 'SalePrice']]\n",
        "df.to_csv('output_nn.csv', index=False)\n",
        "test = test.drop(['SalePrice'], axis = 1)"
      ],
      "metadata": {
        "id": "f8AMxm1BzRQM"
      },
      "execution_count": 102,
      "outputs": []
    },
    {
      "cell_type": "markdown",
      "source": [
        "First neural network score a 2.10037 which yield poor results considering the two linear regression done above. After adding a few more layers, including dropout, and using MSELoss instead of Adam, score is now at 0.53099 which is a huge improvement."
      ],
      "metadata": {
        "id": "etMSMl0g6654"
      }
    }
  ]
}